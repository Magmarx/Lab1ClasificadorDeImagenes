{
  "nbformat": 4,
  "nbformat_minor": 0,
  "metadata": {
    "colab": {
      "name": "Laboratorio1SP1.ipynb",
      "provenance": [],
      "collapsed_sections": []
    },
    "kernelspec": {
      "name": "python3",
      "display_name": "Python 3"
    },
    "accelerator": "GPU"
  },
  "cells": [
    {
      "cell_type": "markdown",
      "metadata": {
        "id": "c9JGltp-2s9r",
        "colab_type": "text"
      },
      "source": [
        "# Imports (En esta sección vamos a importar todas las librerias que precisaremos)"
      ]
    },
    {
      "cell_type": "code",
      "metadata": {
        "id": "6GHZmcxZ2tr_",
        "colab_type": "code",
        "outputId": "40818efd-96dc-4bd9-e8f8-f2a7a99c5053",
        "colab": {
          "base_uri": "https://localhost:8080/",
          "height": 34
        }
      },
      "source": [
        "%tensorflow_version 2.x\n",
        "\n",
        "import tensorflow as tf\n",
        "\n",
        "from tensorflow.keras.datasets import mnist\n",
        "from tensorflow.keras.models import Sequential\n",
        "from tensorflow.keras.layers import Dense, Dropout, Flatten, Conv2D, MaxPooling2D\n",
        "from tensorflow.keras import backend as back\n",
        "\n",
        "import numpy as np\n",
        "import PIL.Image as Image\n",
        "import matplotlib.pylab as plt\n",
        "\n",
        "# Colocamos la seed para poder replicar los experimentos más delante\n",
        "seed=1998\n",
        "np.random.seed(seed)\n",
        "tf.random.set_seed(seed)"
      ],
      "execution_count": 1,
      "outputs": [
        {
          "output_type": "stream",
          "text": [
            "TensorFlow 2.x selected.\n"
          ],
          "name": "stdout"
        }
      ]
    },
    {
      "cell_type": "code",
      "metadata": {
        "id": "e6DxiR323KA1",
        "colab_type": "code",
        "colab": {}
      },
      "source": [
        ""
      ],
      "execution_count": 0,
      "outputs": []
    },
    {
      "cell_type": "markdown",
      "metadata": {
        "id": "JGumdsJbJoBh",
        "colab_type": "text"
      },
      "source": [
        "# Variables Globales"
      ]
    },
    {
      "cell_type": "code",
      "metadata": {
        "id": "0s_rwSxlJqrp",
        "colab_type": "code",
        "colab": {}
      },
      "source": [
        "batch_size = 128\n",
        "num_classes = 10\n",
        "epochs = 50\n",
        "img_rows, img_cols = 28, 28\n",
        "class_names = ['0', '1', '2', '3', '4', '5', '6', '7', '8', '9']"
      ],
      "execution_count": 0,
      "outputs": []
    },
    {
      "cell_type": "markdown",
      "metadata": {
        "id": "chWk52kZ3quj",
        "colab_type": "text"
      },
      "source": [
        "# Dataset prep (En esta sección vamos a preparar el dataset para que tenga el formato optimo para clasificar)"
      ]
    },
    {
      "cell_type": "markdown",
      "metadata": {
        "id": "GziQzC5Z37_k",
        "colab_type": "text"
      },
      "source": [
        "## Loading the dataset"
      ]
    },
    {
      "cell_type": "code",
      "metadata": {
        "id": "GSgOh3PQ39jk",
        "colab_type": "code",
        "colab": {}
      },
      "source": [
        "(x_train, y_train), (x_test, y_test) = mnist.load_data()\n",
        "x_test_demo = x_test\n",
        "y_test_demo = y_test"
      ],
      "execution_count": 0,
      "outputs": []
    },
    {
      "cell_type": "code",
      "metadata": {
        "id": "V1La7iEIaXoW",
        "colab_type": "code",
        "outputId": "55625b3b-2a75-41b1-d755-6bdf3345a8a6",
        "colab": {
          "base_uri": "https://localhost:8080/",
          "height": 248
        }
      },
      "source": [
        "plt.imshow(x_train[1])\n",
        "plt.axis('off')\n",
        "plt.show()"
      ],
      "execution_count": 4,
      "outputs": [
        {
          "output_type": "display_data",
          "data": {
            "image/png": "[encoded data removed]",
            "text/plain": [
              "<Figure size 432x288 with 1 Axes>"
            ]
          },
          "metadata": {
            "tags": []
          }
        }
      ]
    },
    {
      "cell_type": "code",
      "metadata": {
        "id": "nysSkrHbaax5",
        "colab_type": "code",
        "outputId": "f95abaaf-d4cc-4281-b368-aa8be1b3d205",
        "colab": {
          "base_uri": "https://localhost:8080/",
          "height": 252
        }
      },
      "source": [
        "plt.figure()\n",
        "for i in range(25):\n",
        "    plt.subplot(5,5,i+1)\n",
        "    plt.xticks([])\n",
        "    plt.yticks([])\n",
        "    plt.grid(False)\n",
        "    plt.imshow(x_train[i], cmap=plt.cm.binary)\n",
        "plt.show()"
      ],
      "execution_count": 5,
      "outputs": [
        {
          "output_type": "display_data",
          "data": {
            "image/png": "[encoded data removed]",
            "text/plain": [
              "<Figure size 432x288 with 25 Axes>"
            ]
          },
          "metadata": {
            "tags": []
          }
        }
      ]
    },
    {
      "cell_type": "code",
      "metadata": {
        "id": "D1k5j0F-Jybi",
        "colab_type": "code",
        "colab": {}
      },
      "source": [
        "if back.image_data_format() == 'channels_first':\n",
        "    x_train = x_train.reshape(x_train.shape[0], 1, img_rows, img_cols)\n",
        "    x_test = x_test.reshape(x_test.shape[0], 1, img_rows, img_cols)\n",
        "    input_shape = (1, img_rows, img_cols)\n",
        "else:\n",
        "    x_train = x_train.reshape(x_train.shape[0], img_rows, img_cols, 1)\n",
        "    x_test = x_test.reshape(x_test.shape[0], img_rows, img_cols, 1)\n",
        "    input_shape = (img_rows, img_cols, 1)"
      ],
      "execution_count": 0,
      "outputs": []
    },
    {
      "cell_type": "code",
      "metadata": {
        "id": "6ldvJt2wJ9js",
        "colab_type": "code",
        "colab": {}
      },
      "source": [
        "x_train = x_train.astype('float32')\n",
        "x_test = x_test.astype('float32')\n",
        "x_train /= 255\n",
        "x_test /= 255"
      ],
      "execution_count": 0,
      "outputs": []
    },
    {
      "cell_type": "code",
      "metadata": {
        "id": "fCPeWeKh9HNX",
        "colab_type": "code",
        "outputId": "65ee7ad0-cac9-45f4-a684-6ed327b845e5",
        "colab": {
          "base_uri": "https://localhost:8080/",
          "height": 68
        }
      },
      "source": [
        "print('train_images shape:', x_train.shape)\n",
        "print(x_train.shape[0], 'train samples')\n",
        "print(x_test.shape[0], 'test samples')"
      ],
      "execution_count": 8,
      "outputs": [
        {
          "output_type": "stream",
          "text": [
            "train_images shape: (60000, 28, 28, 1)\n",
            "60000 train samples\n",
            "10000 test samples\n"
          ],
          "name": "stdout"
        }
      ]
    },
    {
      "cell_type": "code",
      "metadata": {
        "id": "oSs8wv4aKHl_",
        "colab_type": "code",
        "colab": {}
      },
      "source": [
        "y_train = tf.keras.utils.to_categorical(y_train, num_classes)\n",
        "y_test = tf.keras.utils.to_categorical(y_test, num_classes)"
      ],
      "execution_count": 0,
      "outputs": []
    },
    {
      "cell_type": "markdown",
      "metadata": {
        "id": "ImiCetxtDvVy",
        "colab_type": "text"
      },
      "source": [
        "# Building the model (En esta sección vamos a configurar nuestro dataset de manera que obtengamos un resultado mayor al 70% de accuracy)"
      ]
    },
    {
      "cell_type": "code",
      "metadata": {
        "id": "HZqkz3PUDyEq",
        "colab_type": "code",
        "colab": {}
      },
      "source": [
        "# Model 1\n",
        "# acc:  0.8384 (12 Epochs)\n",
        "# acc: 0.9541 (200 Epochs)\n",
        "model = Sequential([\n",
        "        Conv2D(32, kernel_size=(3, 3),\n",
        "                 activation='relu',\n",
        "                 input_shape=input_shape),\n",
        "        Conv2D(64, (3, 3), activation='relu'),\n",
        "        MaxPooling2D(pool_size=(2, 2)),\n",
        "        Dropout(0.25),\n",
        "        Flatten(),\n",
        "        Dense(128, activation='relu'),\n",
        "        Dropout(0.5),\n",
        "        Dense(num_classes, activation='softmax')\n",
        "])\n",
        "\n",
        "# Model 2\n",
        "# acc:  0.7384\n",
        "# model = Sequential([\n",
        "#         Conv2D(34, kernel_size=(5, 5),\n",
        "#                  activation='relu',\n",
        "#                  input_shape=input_shape),\n",
        "#         MaxPooling2D(pool_size=(2, 2)),\n",
        "#         Conv2D(64, (5, 5), activation='relu'),\n",
        "#         MaxPooling2D(pool_size=(2, 2)),\n",
        "#         Dropout(0.25),\n",
        "#         Flatten(),\n",
        "#         Dense(128, activation='relu'),\n",
        "#         Dropout(0.5),\n",
        "#         Dense(num_classes, activation='softmax')\n",
        "# ])\n",
        "\n",
        "# Model 3\n",
        "# acc:  0.70\n",
        "# model = Sequential([\n",
        "#         Conv2D(32, kernel_size=(5, 5),\n",
        "#                  activation='relu',\n",
        "#                  input_shape=input_shape),\n",
        "#         MaxPooling2D(pool_size=(2, 2)),\n",
        "#         Conv2D(6, (5, 5), activation='relu'),\n",
        "#         MaxPooling2D(pool_size=(2, 2)),\n",
        "#         Flatten(),\n",
        "#         Dense(1024, activation='relu'),\n",
        "#         Dropout(0.4),\n",
        "#         Dense(num_classes, activation='softmax')\n",
        "# ])"
      ],
      "execution_count": 0,
      "outputs": []
    },
    {
      "cell_type": "markdown",
      "metadata": {
        "id": "LNyHhb-CbT3V",
        "colab_type": "text"
      },
      "source": [
        ""
      ]
    },
    {
      "cell_type": "code",
      "metadata": {
        "id": "Nc_-eSC2HTnZ",
        "colab_type": "code",
        "colab": {}
      },
      "source": [
        "model.compile(loss=tf.keras.losses.categorical_crossentropy,\n",
        "              optimizer=tf.keras.optimizers.Adadelta(),\n",
        "              metrics=['accuracy'])"
      ],
      "execution_count": 0,
      "outputs": []
    },
    {
      "cell_type": "code",
      "metadata": {
        "id": "_mIaCltkHic1",
        "colab_type": "code",
        "outputId": "719d710d-1d8d-40ff-854a-c709e913ac77",
        "colab": {
          "base_uri": "https://localhost:8080/",
          "height": 1000
        }
      },
      "source": [
        "hst = model.fit(x_train, y_train,\n",
        "          batch_size=batch_size,\n",
        "          epochs=epochs,\n",
        "          verbose=1,\n",
        "          validation_data=(x_test, y_test))"
      ],
      "execution_count": 12,
      "outputs": [
        {
          "output_type": "stream",
          "text": [
            "Train on 60000 samples, validate on 10000 samples\n",
            "Epoch 1/50\n",
            "60000/60000 [==============================] - 8s 126us/sample - loss: 2.2815 - accuracy: 0.1383 - val_loss: 2.2458 - val_accuracy: 0.2110\n",
            "Epoch 2/50\n",
            "60000/60000 [==============================] - 5s 77us/sample - loss: 2.2209 - accuracy: 0.2281 - val_loss: 2.1673 - val_accuracy: 0.3769\n",
            "Epoch 3/50\n",
            "60000/60000 [==============================] - 5s 76us/sample - loss: 2.1392 - accuracy: 0.3226 - val_loss: 2.0613 - val_accuracy: 0.5715\n",
            "Epoch 4/50\n",
            "60000/60000 [==============================] - 5s 76us/sample - loss: 2.0300 - accuracy: 0.4212 - val_loss: 1.9225 - val_accuracy: 0.6712\n",
            "Epoch 5/50\n",
            "60000/60000 [==============================] - 4s 74us/sample - loss: 1.8902 - accuracy: 0.5058 - val_loss: 1.7450 - val_accuracy: 0.7281\n",
            "Epoch 6/50\n",
            "60000/60000 [==============================] - 5s 76us/sample - loss: 1.7198 - accuracy: 0.5663 - val_loss: 1.5367 - val_accuracy: 0.7544\n",
            "Epoch 7/50\n",
            "60000/60000 [==============================] - 5s 75us/sample - loss: 1.5412 - accuracy: 0.6050 - val_loss: 1.3253 - val_accuracy: 0.7727\n",
            "Epoch 8/50\n",
            "60000/60000 [==============================] - 4s 74us/sample - loss: 1.3750 - accuracy: 0.6353 - val_loss: 1.1397 - val_accuracy: 0.7927\n",
            "Epoch 9/50\n",
            "60000/60000 [==============================] - 4s 75us/sample - loss: 1.2363 - accuracy: 0.6586 - val_loss: 0.9921 - val_accuracy: 0.8084\n",
            "Epoch 10/50\n",
            "60000/60000 [==============================] - 4s 75us/sample - loss: 1.1249 - accuracy: 0.6790 - val_loss: 0.8788 - val_accuracy: 0.8200\n",
            "Epoch 11/50\n",
            "60000/60000 [==============================] - 5s 78us/sample - loss: 1.0396 - accuracy: 0.6953 - val_loss: 0.7921 - val_accuracy: 0.8307\n",
            "Epoch 12/50\n",
            "60000/60000 [==============================] - 5s 75us/sample - loss: 0.9739 - accuracy: 0.7104 - val_loss: 0.7251 - val_accuracy: 0.8385\n",
            "Epoch 13/50\n",
            "60000/60000 [==============================] - 4s 73us/sample - loss: 0.9169 - accuracy: 0.7235 - val_loss: 0.6716 - val_accuracy: 0.8478\n",
            "Epoch 14/50\n",
            "60000/60000 [==============================] - 4s 74us/sample - loss: 0.8676 - accuracy: 0.7367 - val_loss: 0.6285 - val_accuracy: 0.8529\n",
            "Epoch 15/50\n",
            "60000/60000 [==============================] - 4s 75us/sample - loss: 0.8274 - accuracy: 0.7473 - val_loss: 0.5922 - val_accuracy: 0.8577\n",
            "Epoch 16/50\n",
            "60000/60000 [==============================] - 4s 75us/sample - loss: 0.7987 - accuracy: 0.7550 - val_loss: 0.5627 - val_accuracy: 0.8623\n",
            "Epoch 17/50\n",
            "60000/60000 [==============================] - 4s 74us/sample - loss: 0.7621 - accuracy: 0.7665 - val_loss: 0.5365 - val_accuracy: 0.8662\n",
            "Epoch 18/50\n",
            "60000/60000 [==============================] - 4s 75us/sample - loss: 0.7400 - accuracy: 0.7735 - val_loss: 0.5156 - val_accuracy: 0.8699\n",
            "Epoch 19/50\n",
            "60000/60000 [==============================] - 4s 75us/sample - loss: 0.7215 - accuracy: 0.7795 - val_loss: 0.4968 - val_accuracy: 0.8746\n",
            "Epoch 20/50\n",
            "60000/60000 [==============================] - 4s 75us/sample - loss: 0.6909 - accuracy: 0.7893 - val_loss: 0.4791 - val_accuracy: 0.8766\n",
            "Epoch 21/50\n",
            "60000/60000 [==============================] - 5s 78us/sample - loss: 0.6758 - accuracy: 0.7932 - val_loss: 0.4645 - val_accuracy: 0.8802\n",
            "Epoch 22/50\n",
            "60000/60000 [==============================] - 5s 79us/sample - loss: 0.6643 - accuracy: 0.7964 - val_loss: 0.4523 - val_accuracy: 0.8821\n",
            "Epoch 23/50\n",
            "60000/60000 [==============================] - 5s 81us/sample - loss: 0.6481 - accuracy: 0.8010 - val_loss: 0.4398 - val_accuracy: 0.8848\n",
            "Epoch 24/50\n",
            "60000/60000 [==============================] - 5s 78us/sample - loss: 0.6331 - accuracy: 0.8069 - val_loss: 0.4290 - val_accuracy: 0.8874\n",
            "Epoch 25/50\n",
            "60000/60000 [==============================] - 5s 80us/sample - loss: 0.6249 - accuracy: 0.8090 - val_loss: 0.4194 - val_accuracy: 0.8897\n",
            "Epoch 26/50\n",
            "60000/60000 [==============================] - 5s 77us/sample - loss: 0.6067 - accuracy: 0.8135 - val_loss: 0.4098 - val_accuracy: 0.8913\n",
            "Epoch 27/50\n",
            "60000/60000 [==============================] - 5s 76us/sample - loss: 0.5980 - accuracy: 0.8168 - val_loss: 0.4018 - val_accuracy: 0.8924\n",
            "Epoch 28/50\n",
            "60000/60000 [==============================] - 5s 76us/sample - loss: 0.5849 - accuracy: 0.8205 - val_loss: 0.3945 - val_accuracy: 0.8948\n",
            "Epoch 29/50\n",
            "60000/60000 [==============================] - 5s 76us/sample - loss: 0.5740 - accuracy: 0.8244 - val_loss: 0.3872 - val_accuracy: 0.8970\n",
            "Epoch 30/50\n",
            "60000/60000 [==============================] - 5s 76us/sample - loss: 0.5712 - accuracy: 0.8256 - val_loss: 0.3805 - val_accuracy: 0.8985\n",
            "Epoch 31/50\n",
            "60000/60000 [==============================] - 5s 76us/sample - loss: 0.5644 - accuracy: 0.8264 - val_loss: 0.3748 - val_accuracy: 0.9001\n",
            "Epoch 32/50\n",
            "60000/60000 [==============================] - 5s 79us/sample - loss: 0.5558 - accuracy: 0.8321 - val_loss: 0.3689 - val_accuracy: 0.9009\n",
            "Epoch 33/50\n",
            "60000/60000 [==============================] - 5s 80us/sample - loss: 0.5484 - accuracy: 0.8304 - val_loss: 0.3634 - val_accuracy: 0.9026\n",
            "Epoch 34/50\n",
            "60000/60000 [==============================] - 5s 79us/sample - loss: 0.5379 - accuracy: 0.8353 - val_loss: 0.3581 - val_accuracy: 0.9043\n",
            "Epoch 35/50\n",
            "60000/60000 [==============================] - 5s 78us/sample - loss: 0.5336 - accuracy: 0.8374 - val_loss: 0.3531 - val_accuracy: 0.9043\n",
            "Epoch 36/50\n",
            "60000/60000 [==============================] - 5s 79us/sample - loss: 0.5259 - accuracy: 0.8402 - val_loss: 0.3484 - val_accuracy: 0.9055\n",
            "Epoch 37/50\n",
            "60000/60000 [==============================] - 5s 79us/sample - loss: 0.5193 - accuracy: 0.8410 - val_loss: 0.3438 - val_accuracy: 0.9054\n",
            "Epoch 38/50\n",
            "60000/60000 [==============================] - 5s 79us/sample - loss: 0.5150 - accuracy: 0.8431 - val_loss: 0.3395 - val_accuracy: 0.9069\n",
            "Epoch 39/50\n",
            "60000/60000 [==============================] - 5s 80us/sample - loss: 0.5074 - accuracy: 0.8441 - val_loss: 0.3354 - val_accuracy: 0.9080\n",
            "Epoch 40/50\n",
            "60000/60000 [==============================] - 5s 82us/sample - loss: 0.5029 - accuracy: 0.8479 - val_loss: 0.3314 - val_accuracy: 0.9085\n",
            "Epoch 41/50\n",
            "60000/60000 [==============================] - 5s 80us/sample - loss: 0.4989 - accuracy: 0.8487 - val_loss: 0.3278 - val_accuracy: 0.9094\n",
            "Epoch 42/50\n",
            "60000/60000 [==============================] - 5s 80us/sample - loss: 0.4926 - accuracy: 0.8494 - val_loss: 0.3246 - val_accuracy: 0.9100\n",
            "Epoch 43/50\n",
            "60000/60000 [==============================] - 5s 83us/sample - loss: 0.4885 - accuracy: 0.8513 - val_loss: 0.3210 - val_accuracy: 0.9109\n",
            "Epoch 44/50\n",
            "60000/60000 [==============================] - 5s 83us/sample - loss: 0.4865 - accuracy: 0.8521 - val_loss: 0.3177 - val_accuracy: 0.9122\n",
            "Epoch 45/50\n",
            "60000/60000 [==============================] - 5s 79us/sample - loss: 0.4802 - accuracy: 0.8541 - val_loss: 0.3145 - val_accuracy: 0.9121\n",
            "Epoch 46/50\n",
            "60000/60000 [==============================] - 5s 80us/sample - loss: 0.4743 - accuracy: 0.8546 - val_loss: 0.3112 - val_accuracy: 0.9132\n",
            "Epoch 47/50\n",
            "60000/60000 [==============================] - 5s 81us/sample - loss: 0.4722 - accuracy: 0.8553 - val_loss: 0.3086 - val_accuracy: 0.9135\n",
            "Epoch 48/50\n",
            "60000/60000 [==============================] - 5s 80us/sample - loss: 0.4679 - accuracy: 0.8586 - val_loss: 0.3058 - val_accuracy: 0.9138\n",
            "Epoch 49/50\n",
            "60000/60000 [==============================] - 5s 80us/sample - loss: 0.4696 - accuracy: 0.8588 - val_loss: 0.3027 - val_accuracy: 0.9147\n",
            "Epoch 50/50\n",
            "60000/60000 [==============================] - 5s 80us/sample - loss: 0.4627 - accuracy: 0.8597 - val_loss: 0.3000 - val_accuracy: 0.9155\n"
          ],
          "name": "stdout"
        }
      ]
    },
    {
      "cell_type": "code",
      "metadata": {
        "id": "4ASx0yetT6Ln",
        "colab_type": "code",
        "colab": {}
      },
      "source": [
        ""
      ],
      "execution_count": 0,
      "outputs": []
    },
    {
      "cell_type": "markdown",
      "metadata": {
        "id": "SA7sT8t-bVPJ",
        "colab_type": "text"
      },
      "source": [
        "# Eval"
      ]
    },
    {
      "cell_type": "code",
      "metadata": {
        "id": "qyHU9hyAbWFc",
        "colab_type": "code",
        "outputId": "d2bdf89c-680c-480b-ea5b-26f23064e4cd",
        "colab": {
          "base_uri": "https://localhost:8080/",
          "height": 621
        }
      },
      "source": [
        "acc = hst.history['accuracy']\n",
        "val_acc = hst.history['val_accuracy']\n",
        "\n",
        "loss = hst.history['loss']\n",
        "val_loss = hst.history['val_loss']\n",
        "\n",
        "plt.figure(figsize=(10, 10))\n",
        "plt.subplot(2, 1, 1)\n",
        "plt.plot(acc, label='Training Accuracy')\n",
        "plt.plot(val_acc, label='Validation Accuracy')\n",
        "plt.legend(loc='lower right')\n",
        "plt.setp(plt.legend().get_texts(), color='black')\n",
        "plt.ylabel('Accuracy')\n",
        "plt.title('Training and Validation Accuracy')\n",
        "\n",
        "plt.subplot(2, 1, 2)\n",
        "plt.plot(loss, label='Training Loss')\n",
        "plt.plot(val_loss, label='Validation Loss')\n",
        "plt.legend(loc='upper right')\n",
        "plt.setp(plt.legend().get_texts(), color='black')\n",
        "plt.ylabel('Cross Entropy')\n",
        "plt.title('Training and Validation Loss')\n",
        "plt.xlabel('epoch')\n",
        "plt.show()\n"
      ],
      "execution_count": 13,
      "outputs": [
        {
          "output_type": "display_data",
          "data": {
            "image/png": "[encoded data removed]",
            "text/plain": [
              "<Figure size 720x720 with 2 Axes>"
            ]
          },
          "metadata": {
            "tags": []
          }
        }
      ]
    },
    {
      "cell_type": "code",
      "metadata": {
        "id": "WmmqTISdnrYI",
        "colab_type": "code",
        "outputId": "0ab69cbd-201f-49c1-ece2-8d380fa63e49",
        "colab": {
          "base_uri": "https://localhost:8080/",
          "height": 51
        }
      },
      "source": [
        "test_loss, test_acc = model.evaluate(x_test,  y_test, verbose=3)\n",
        "\n",
        "print('Loss:', test_loss)\n",
        "print('Accuracy:', test_acc)"
      ],
      "execution_count": 14,
      "outputs": [
        {
          "output_type": "stream",
          "text": [
            "Loss: 0.3000213242173195\n",
            "Accuracy: 0.9155\n"
          ],
          "name": "stdout"
        }
      ]
    },
    {
      "cell_type": "code",
      "metadata": {
        "id": "Kzo3gwUc3Kmy",
        "colab_type": "code",
        "colab": {}
      },
      "source": [
        ""
      ],
      "execution_count": 0,
      "outputs": []
    },
    {
      "cell_type": "markdown",
      "metadata": {
        "id": "CR7SAodE31tU",
        "colab_type": "text"
      },
      "source": [
        "# Make Predictions"
      ]
    },
    {
      "cell_type": "code",
      "metadata": {
        "id": "6NcChMXY327K",
        "colab_type": "code",
        "colab": {}
      },
      "source": [
        "predictions = model.predict(x_test)"
      ],
      "execution_count": 0,
      "outputs": []
    },
    {
      "cell_type": "code",
      "metadata": {
        "id": "4S7Vxkxh4Vw1",
        "colab_type": "code",
        "colab": {}
      },
      "source": [
        "def plot_image(i, predictions_array, true_label, img):\n",
        "  predictions_array, true_label, img = predictions_array, true_label[i], img[i]\n",
        "  plt.grid(False)\n",
        "  plt.xticks([])\n",
        "  plt.yticks([])\n",
        "\n",
        "  plt.imshow(img, cmap=plt.cm.binary)\n",
        "\n",
        "  predicted_label = np.argmax(predictions_array)\n",
        "  if predicted_label == true_label:\n",
        "    color = 'blue'\n",
        "  else:\n",
        "    color = 'red'\n",
        "\n",
        "def plot_value_array(i, predictions_array, true_label):\n",
        "  predictions_array, true_label = predictions_array, true_label[i]\n",
        "  plt.grid(False)\n",
        "  plt.xticks(range(10))\n",
        "  plt.yticks([])\n",
        "  thisplot = plt.bar(range(10), predictions_array, color=\"#777777\")\n",
        "  plt.ylim([0, 1])\n",
        "  predicted_label = np.argmax(predictions_array)\n",
        "\n",
        "  thisplot[predicted_label].set_color('red')\n",
        "  thisplot[true_label].set_color('blue')"
      ],
      "execution_count": 0,
      "outputs": []
    },
    {
      "cell_type": "code",
      "metadata": {
        "id": "eH995j0Q7I3T",
        "colab_type": "code",
        "outputId": "6c415c69-10cd-41b3-fe0b-98ed07a84d1e",
        "colab": {
          "base_uri": "https://localhost:8080/",
          "height": 211
        }
      },
      "source": [
        "import random\n",
        "\n",
        "i = random.randrange(0, 10001, 1)\n",
        "plt.figure(figsize=(6,3))\n",
        "plt.subplot(1,2,1)\n",
        "plot_image(i, predictions[i], y_test_demo, x_test_demo)\n",
        "plt.subplot(1,2,2)\n",
        "plot_value_array(i, predictions[i],  y_test_demo)\n",
        "plt.show()"
      ],
      "execution_count": 17,
      "outputs": [
        {
          "output_type": "display_data",
          "data": {
            "image/png": "[encoded data removed]",
            "text/plain": [
              "<Figure size 432x216 with 2 Axes>"
            ]
          },
          "metadata": {
            "tags": []
          }
        }
      ]
    },
    {
      "cell_type": "code",
      "metadata": {
        "id": "KRAtmZWm7Nkl",
        "colab_type": "code",
        "colab": {}
      },
      "source": [
        ""
      ],
      "execution_count": 0,
      "outputs": []
    }
  ]
}