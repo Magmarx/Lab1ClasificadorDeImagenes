{
  "nbformat": 4,
  "nbformat_minor": 0,
  "metadata": {
    "colab": {
      "name": "Laboratorio1SP1.ipynb",
      "provenance": [],
      "collapsed_sections": []
    },
    "kernelspec": {
      "name": "python3",
      "display_name": "Python 3"
    },
    "accelerator": "GPU"
  },
  "cells": [
    {
      "cell_type": "markdown",
      "metadata": {
        "id": "c9JGltp-2s9r",
        "colab_type": "text"
      },
      "source": [
        "# Imports (En esta sección vamos a importar todas las librerias que precisaremos)"
      ]
    },
    {
      "cell_type": "code",
      "metadata": {
        "id": "6GHZmcxZ2tr_",
        "colab_type": "code",
        "outputId": "9e6eb70f-590a-4954-f684-f434b324dc4c",
        "colab": {
          "base_uri": "https://localhost:8080/",
          "height": 34
        }
      },
      "source": [
        "%tensorflow_version 2.x\n",
        "\n",
        "import tensorflow as tf\n",
        "\n",
        "from tensorflow.keras.datasets import mnist\n",
        "from tensorflow.keras.models import Sequential\n",
        "from tensorflow.keras.layers import Dense, Dropout, Flatten, Conv2D, MaxPooling2D\n",
        "from tensorflow.keras import backend as back\n",
        "\n",
        "import numpy as np\n",
        "import PIL.Image as Image\n",
        "import matplotlib.pylab as plt\n",
        "\n",
        "# Colocamos la seed para poder replicar los experimentos más delante\n",
        "seed=1998\n",
        "np.random.seed(seed)\n",
        "tf.random.set_seed(seed)"
      ],
      "execution_count": 1,
      "outputs": [
        {
          "output_type": "stream",
          "text": [
            "TensorFlow 2.x selected.\n"
          ],
          "name": "stdout"
        }
      ]
    },
    {
      "cell_type": "code",
      "metadata": {
        "id": "e6DxiR323KA1",
        "colab_type": "code",
        "colab": {}
      },
      "source": [
        ""
      ],
      "execution_count": 0,
      "outputs": []
    },
    {
      "cell_type": "markdown",
      "metadata": {
        "id": "JGumdsJbJoBh",
        "colab_type": "text"
      },
      "source": [
        "# Variables Globales"
      ]
    },
    {
      "cell_type": "code",
      "metadata": {
        "id": "0s_rwSxlJqrp",
        "colab_type": "code",
        "colab": {}
      },
      "source": [
        "batch_size = 128\n",
        "num_classes = 10\n",
        "epochs = 200\n",
        "img_rows, img_cols = 28, 28\n",
        "class_names = ['0', '1', '2', '3', '4', '5', '6', '7', '8', '9']"
      ],
      "execution_count": 0,
      "outputs": []
    },
    {
      "cell_type": "markdown",
      "metadata": {
        "id": "chWk52kZ3quj",
        "colab_type": "text"
      },
      "source": [
        "# Dataset prep (En esta sección vamos a preparar el dataset para que tenga el formato optimo para clasificar)"
      ]
    },
    {
      "cell_type": "markdown",
      "metadata": {
        "id": "GziQzC5Z37_k",
        "colab_type": "text"
      },
      "source": [
        "## Loading the dataset"
      ]
    },
    {
      "cell_type": "code",
      "metadata": {
        "id": "GSgOh3PQ39jk",
        "colab_type": "code",
        "colab": {
          "base_uri": "https://localhost:8080/",
          "height": 51
        },
        "outputId": "c16008ba-5ba8-4766-ece9-34c61bf5c7be"
      },
      "source": [
        "(x_train, y_train), (x_test, y_test) = mnist.load_data()\n",
        "x_test_demo = x_test\n",
        "y_test_demo = y_test"
      ],
      "execution_count": 3,
      "outputs": [
        {
          "output_type": "stream",
          "text": [
            "Downloading data from https://storage.googleapis.com/tensorflow/tf-keras-datasets/mnist.npz\n",
            "11493376/11490434 [==============================] - 0s 0us/step\n"
          ],
          "name": "stdout"
        }
      ]
    },
    {
      "cell_type": "code",
      "metadata": {
        "id": "V1La7iEIaXoW",
        "colab_type": "code",
        "outputId": "5ca3657c-c8e7-4214-ef9f-ab85dac76ee8",
        "colab": {
          "base_uri": "https://localhost:8080/",
          "height": 248
        }
      },
      "source": [
        "plt.imshow(x_train[1])\n",
        "plt.axis('off')\n",
        "plt.show()"
      ],
      "execution_count": 4,
      "outputs": [
        {
          "output_type": "display_data",
          "data": {
            "image/png": "[encoded data removed]",
            "text/plain": [
              "<Figure size 432x288 with 1 Axes>"
            ]
          },
          "metadata": {
            "tags": []
          }
        }
      ]
    },
    {
      "cell_type": "code",
      "metadata": {
        "id": "nysSkrHbaax5",
        "colab_type": "code",
        "outputId": "104a8df7-52ae-41df-c68d-020d7319c026",
        "colab": {
          "base_uri": "https://localhost:8080/",
          "height": 252
        }
      },
      "source": [
        "plt.figure()\n",
        "for i in range(25):\n",
        "    plt.subplot(5,5,i+1)\n",
        "    plt.xticks([])\n",
        "    plt.yticks([])\n",
        "    plt.grid(False)\n",
        "    plt.imshow(x_train[i], cmap=plt.cm.binary)\n",
        "plt.show()"
      ],
      "execution_count": 5,
      "outputs": [
        {
          "output_type": "display_data",
          "data": {
            "image/png": "[encoded data removed]",
            "text/plain": [
              "<Figure size 432x288 with 25 Axes>"
            ]
          },
          "metadata": {
            "tags": []
          }
        }
      ]
    },
    {
      "cell_type": "code",
      "metadata": {
        "id": "D1k5j0F-Jybi",
        "colab_type": "code",
        "colab": {}
      },
      "source": [
        "if back.image_data_format() == 'channels_first':\n",
        "    x_train = x_train.reshape(x_train.shape[0], 1, img_rows, img_cols)\n",
        "    x_test = x_test.reshape(x_test.shape[0], 1, img_rows, img_cols)\n",
        "    input_shape = (1, img_rows, img_cols)\n",
        "else:\n",
        "    x_train = x_train.reshape(x_train.shape[0], img_rows, img_cols, 1)\n",
        "    x_test = x_test.reshape(x_test.shape[0], img_rows, img_cols, 1)\n",
        "    input_shape = (img_rows, img_cols, 1)"
      ],
      "execution_count": 0,
      "outputs": []
    },
    {
      "cell_type": "code",
      "metadata": {
        "id": "6ldvJt2wJ9js",
        "colab_type": "code",
        "colab": {}
      },
      "source": [
        "x_train = x_train.astype('float32')\n",
        "x_test = x_test.astype('float32')\n",
        "x_train /= 255\n",
        "x_test /= 255"
      ],
      "execution_count": 0,
      "outputs": []
    },
    {
      "cell_type": "code",
      "metadata": {
        "id": "fCPeWeKh9HNX",
        "colab_type": "code",
        "outputId": "92ee1165-a361-43ef-bcb7-8848228d133f",
        "colab": {
          "base_uri": "https://localhost:8080/",
          "height": 68
        }
      },
      "source": [
        "print('train_images shape:', x_train.shape)\n",
        "print(x_train.shape[0], 'train samples')\n",
        "print(x_test.shape[0], 'test samples')"
      ],
      "execution_count": 8,
      "outputs": [
        {
          "output_type": "stream",
          "text": [
            "train_images shape: (60000, 28, 28, 1)\n",
            "60000 train samples\n",
            "10000 test samples\n"
          ],
          "name": "stdout"
        }
      ]
    },
    {
      "cell_type": "code",
      "metadata": {
        "id": "oSs8wv4aKHl_",
        "colab_type": "code",
        "colab": {}
      },
      "source": [
        "y_train = tf.keras.utils.to_categorical(y_train, num_classes)\n",
        "y_test = tf.keras.utils.to_categorical(y_test, num_classes)"
      ],
      "execution_count": 0,
      "outputs": []
    },
    {
      "cell_type": "markdown",
      "metadata": {
        "id": "ImiCetxtDvVy",
        "colab_type": "text"
      },
      "source": [
        "# Building the model (En esta sección vamos a configurar nuestro dataset de manera que obtengamos un resultado mayor al 70% de accuracy)"
      ]
    },
    {
      "cell_type": "code",
      "metadata": {
        "id": "HZqkz3PUDyEq",
        "colab_type": "code",
        "colab": {}
      },
      "source": [
        "# Model 1\n",
        "# acc:  0.8384 (12 Epochs)\n",
        "# acc: 0.9541 (200 Epochs)\n",
        "model = Sequential([\n",
        "        Conv2D(32, kernel_size=(3, 3),\n",
        "                 activation='relu',\n",
        "                 input_shape=input_shape),\n",
        "        Conv2D(64, (3, 3), activation='relu'),\n",
        "        MaxPooling2D(pool_size=(2, 2)),\n",
        "        Dropout(0.25),\n",
        "        Flatten(),\n",
        "        Dense(128, activation='relu'),\n",
        "        Dropout(0.5),\n",
        "        Dense(num_classes, activation='softmax')\n",
        "])\n",
        "\n",
        "# Model 2\n",
        "# acc:  0.7384\n",
        "# model = Sequential([\n",
        "#         Conv2D(34, kernel_size=(5, 5),\n",
        "#                  activation='relu',\n",
        "#                  input_shape=input_shape),\n",
        "#         MaxPooling2D(pool_size=(2, 2)),\n",
        "#         Conv2D(64, (5, 5), activation='relu'),\n",
        "#         MaxPooling2D(pool_size=(2, 2)),\n",
        "#         Dropout(0.25),\n",
        "#         Flatten(),\n",
        "#         Dense(128, activation='relu'),\n",
        "#         Dropout(0.5),\n",
        "#         Dense(num_classes, activation='softmax')\n",
        "# ])\n",
        "\n",
        "# Model 3\n",
        "# acc:  0.70\n",
        "# model = Sequential([\n",
        "#         Conv2D(32, kernel_size=(5, 5),\n",
        "#                  activation='relu',\n",
        "#                  input_shape=input_shape),\n",
        "#         MaxPooling2D(pool_size=(2, 2)),\n",
        "#         Conv2D(6, (5, 5), activation='relu'),\n",
        "#         MaxPooling2D(pool_size=(2, 2)),\n",
        "#         Flatten(),\n",
        "#         Dense(1024, activation='relu'),\n",
        "#         Dropout(0.4),\n",
        "#         Dense(num_classes, activation='softmax')\n",
        "# ])"
      ],
      "execution_count": 0,
      "outputs": []
    },
    {
      "cell_type": "markdown",
      "metadata": {
        "id": "LNyHhb-CbT3V",
        "colab_type": "text"
      },
      "source": [
        ""
      ]
    },
    {
      "cell_type": "code",
      "metadata": {
        "id": "Nc_-eSC2HTnZ",
        "colab_type": "code",
        "colab": {}
      },
      "source": [
        "model.compile(loss=tf.keras.losses.categorical_crossentropy,\n",
        "              optimizer=tf.keras.optimizers.Adadelta(),\n",
        "              metrics=['accuracy'])"
      ],
      "execution_count": 0,
      "outputs": []
    },
    {
      "cell_type": "code",
      "metadata": {
        "id": "_mIaCltkHic1",
        "colab_type": "code",
        "outputId": "ff0d800f-ccdd-4a67-ea46-c567b7c60db6",
        "colab": {
          "base_uri": "https://localhost:8080/",
          "height": 1000
        }
      },
      "source": [
        "hst = model.fit(x_train, y_train,\n",
        "          batch_size=batch_size,\n",
        "          epochs=epochs,\n",
        "          verbose=1,\n",
        "          validation_data=(x_test, y_test))"
      ],
      "execution_count": 12,
      "outputs": [
        {
          "output_type": "stream",
          "text": [
            "Train on 60000 samples, validate on 10000 samples\n",
            "Epoch 1/200\n",
            "60000/60000 [==============================] - 12s 204us/sample - loss: 2.2815 - accuracy: 0.1383 - val_loss: 2.2458 - val_accuracy: 0.2110\n",
            "Epoch 2/200\n",
            "60000/60000 [==============================] - 5s 79us/sample - loss: 2.2209 - accuracy: 0.2281 - val_loss: 2.1673 - val_accuracy: 0.3768\n",
            "Epoch 3/200\n",
            "60000/60000 [==============================] - 5s 78us/sample - loss: 2.1392 - accuracy: 0.3226 - val_loss: 2.0613 - val_accuracy: 0.5714\n",
            "Epoch 4/200\n",
            "60000/60000 [==============================] - 5s 79us/sample - loss: 2.0300 - accuracy: 0.4212 - val_loss: 1.9225 - val_accuracy: 0.6712\n",
            "Epoch 5/200\n",
            "60000/60000 [==============================] - 5s 79us/sample - loss: 1.8902 - accuracy: 0.5057 - val_loss: 1.7450 - val_accuracy: 0.7281\n",
            "Epoch 6/200\n",
            "60000/60000 [==============================] - 5s 78us/sample - loss: 1.7198 - accuracy: 0.5663 - val_loss: 1.5367 - val_accuracy: 0.7544\n",
            "Epoch 7/200\n",
            "60000/60000 [==============================] - 5s 76us/sample - loss: 1.5412 - accuracy: 0.6050 - val_loss: 1.3253 - val_accuracy: 0.7727\n",
            "Epoch 8/200\n",
            "60000/60000 [==============================] - 4s 74us/sample - loss: 1.3750 - accuracy: 0.6354 - val_loss: 1.1397 - val_accuracy: 0.7927\n",
            "Epoch 9/200\n",
            "60000/60000 [==============================] - 5s 75us/sample - loss: 1.2363 - accuracy: 0.6586 - val_loss: 0.9921 - val_accuracy: 0.8084\n",
            "Epoch 10/200\n",
            "60000/60000 [==============================] - 4s 73us/sample - loss: 1.1249 - accuracy: 0.6791 - val_loss: 0.8788 - val_accuracy: 0.8200\n",
            "Epoch 11/200\n",
            "60000/60000 [==============================] - 4s 75us/sample - loss: 1.0396 - accuracy: 0.6953 - val_loss: 0.7921 - val_accuracy: 0.8307\n",
            "Epoch 12/200\n",
            "60000/60000 [==============================] - 5s 80us/sample - loss: 0.9739 - accuracy: 0.7103 - val_loss: 0.7251 - val_accuracy: 0.8385\n",
            "Epoch 13/200\n",
            "60000/60000 [==============================] - 5s 84us/sample - loss: 0.9169 - accuracy: 0.7234 - val_loss: 0.6716 - val_accuracy: 0.8479\n",
            "Epoch 14/200\n",
            "60000/60000 [==============================] - 5s 81us/sample - loss: 0.8676 - accuracy: 0.7368 - val_loss: 0.6285 - val_accuracy: 0.8529\n",
            "Epoch 15/200\n",
            "60000/60000 [==============================] - 5s 81us/sample - loss: 0.8274 - accuracy: 0.7473 - val_loss: 0.5922 - val_accuracy: 0.8577\n",
            "Epoch 16/200\n",
            "60000/60000 [==============================] - 5s 81us/sample - loss: 0.7987 - accuracy: 0.7550 - val_loss: 0.5627 - val_accuracy: 0.8623\n",
            "Epoch 17/200\n",
            "60000/60000 [==============================] - 4s 75us/sample - loss: 0.7621 - accuracy: 0.7665 - val_loss: 0.5365 - val_accuracy: 0.8662\n",
            "Epoch 18/200\n",
            "60000/60000 [==============================] - 5s 75us/sample - loss: 0.7400 - accuracy: 0.7735 - val_loss: 0.5156 - val_accuracy: 0.8699\n",
            "Epoch 19/200\n",
            "60000/60000 [==============================] - 5s 76us/sample - loss: 0.7215 - accuracy: 0.7794 - val_loss: 0.4968 - val_accuracy: 0.8746\n",
            "Epoch 20/200\n",
            "60000/60000 [==============================] - 4s 75us/sample - loss: 0.6909 - accuracy: 0.7893 - val_loss: 0.4791 - val_accuracy: 0.8766\n",
            "Epoch 21/200\n",
            "60000/60000 [==============================] - 4s 74us/sample - loss: 0.6758 - accuracy: 0.7932 - val_loss: 0.4645 - val_accuracy: 0.8802\n",
            "Epoch 22/200\n",
            "60000/60000 [==============================] - 5s 75us/sample - loss: 0.6643 - accuracy: 0.7964 - val_loss: 0.4523 - val_accuracy: 0.8821\n",
            "Epoch 23/200\n",
            "60000/60000 [==============================] - 4s 75us/sample - loss: 0.6481 - accuracy: 0.8010 - val_loss: 0.4398 - val_accuracy: 0.8848\n",
            "Epoch 24/200\n",
            "60000/60000 [==============================] - 4s 74us/sample - loss: 0.6331 - accuracy: 0.8069 - val_loss: 0.4290 - val_accuracy: 0.8874\n",
            "Epoch 25/200\n",
            "60000/60000 [==============================] - 4s 74us/sample - loss: 0.6249 - accuracy: 0.8090 - val_loss: 0.4194 - val_accuracy: 0.8897\n",
            "Epoch 26/200\n",
            "60000/60000 [==============================] - 5s 77us/sample - loss: 0.6067 - accuracy: 0.8135 - val_loss: 0.4098 - val_accuracy: 0.8913\n",
            "Epoch 27/200\n",
            "60000/60000 [==============================] - 5s 78us/sample - loss: 0.5980 - accuracy: 0.8169 - val_loss: 0.4018 - val_accuracy: 0.8923\n",
            "Epoch 28/200\n",
            "60000/60000 [==============================] - 5s 76us/sample - loss: 0.5849 - accuracy: 0.8206 - val_loss: 0.3945 - val_accuracy: 0.8949\n",
            "Epoch 29/200\n",
            "60000/60000 [==============================] - 5s 76us/sample - loss: 0.5740 - accuracy: 0.8244 - val_loss: 0.3872 - val_accuracy: 0.8970\n",
            "Epoch 30/200\n",
            "60000/60000 [==============================] - 5s 75us/sample - loss: 0.5712 - accuracy: 0.8256 - val_loss: 0.3805 - val_accuracy: 0.8986\n",
            "Epoch 31/200\n",
            "60000/60000 [==============================] - 5s 75us/sample - loss: 0.5644 - accuracy: 0.8264 - val_loss: 0.3747 - val_accuracy: 0.9001\n",
            "Epoch 32/200\n",
            "60000/60000 [==============================] - 5s 76us/sample - loss: 0.5558 - accuracy: 0.8320 - val_loss: 0.3689 - val_accuracy: 0.9009\n",
            "Epoch 33/200\n",
            "60000/60000 [==============================] - 4s 75us/sample - loss: 0.5484 - accuracy: 0.8304 - val_loss: 0.3634 - val_accuracy: 0.9025\n",
            "Epoch 34/200\n",
            "60000/60000 [==============================] - 5s 78us/sample - loss: 0.5379 - accuracy: 0.8353 - val_loss: 0.3581 - val_accuracy: 0.9041\n",
            "Epoch 35/200\n",
            "60000/60000 [==============================] - 5s 81us/sample - loss: 0.5336 - accuracy: 0.8375 - val_loss: 0.3531 - val_accuracy: 0.9043\n",
            "Epoch 36/200\n",
            "60000/60000 [==============================] - 5s 83us/sample - loss: 0.5259 - accuracy: 0.8402 - val_loss: 0.3484 - val_accuracy: 0.9055\n",
            "Epoch 37/200\n",
            "60000/60000 [==============================] - 5s 80us/sample - loss: 0.5193 - accuracy: 0.8410 - val_loss: 0.3438 - val_accuracy: 0.9054\n",
            "Epoch 38/200\n",
            "60000/60000 [==============================] - 5s 79us/sample - loss: 0.5150 - accuracy: 0.8431 - val_loss: 0.3395 - val_accuracy: 0.9069\n",
            "Epoch 39/200\n",
            "60000/60000 [==============================] - 5s 80us/sample - loss: 0.5074 - accuracy: 0.8441 - val_loss: 0.3354 - val_accuracy: 0.9080\n",
            "Epoch 40/200\n",
            "60000/60000 [==============================] - 5s 76us/sample - loss: 0.5029 - accuracy: 0.8480 - val_loss: 0.3314 - val_accuracy: 0.9085\n",
            "Epoch 41/200\n",
            "60000/60000 [==============================] - 5s 76us/sample - loss: 0.4989 - accuracy: 0.8487 - val_loss: 0.3278 - val_accuracy: 0.9095\n",
            "Epoch 42/200\n",
            "60000/60000 [==============================] - 5s 76us/sample - loss: 0.4926 - accuracy: 0.8494 - val_loss: 0.3246 - val_accuracy: 0.9100\n",
            "Epoch 43/200\n",
            "60000/60000 [==============================] - 5s 76us/sample - loss: 0.4885 - accuracy: 0.8513 - val_loss: 0.3210 - val_accuracy: 0.9109\n",
            "Epoch 44/200\n",
            "60000/60000 [==============================] - 5s 78us/sample - loss: 0.4865 - accuracy: 0.8521 - val_loss: 0.3177 - val_accuracy: 0.9122\n",
            "Epoch 45/200\n",
            "60000/60000 [==============================] - 5s 80us/sample - loss: 0.4802 - accuracy: 0.8540 - val_loss: 0.3145 - val_accuracy: 0.9121\n",
            "Epoch 46/200\n",
            "60000/60000 [==============================] - 5s 79us/sample - loss: 0.4743 - accuracy: 0.8545 - val_loss: 0.3112 - val_accuracy: 0.9134\n",
            "Epoch 47/200\n",
            "60000/60000 [==============================] - 5s 80us/sample - loss: 0.4722 - accuracy: 0.8554 - val_loss: 0.3085 - val_accuracy: 0.9136\n",
            "Epoch 48/200\n",
            "60000/60000 [==============================] - 5s 81us/sample - loss: 0.4679 - accuracy: 0.8586 - val_loss: 0.3058 - val_accuracy: 0.9137\n",
            "Epoch 49/200\n",
            "60000/60000 [==============================] - 5s 81us/sample - loss: 0.4696 - accuracy: 0.8588 - val_loss: 0.3027 - val_accuracy: 0.9147\n",
            "Epoch 50/200\n",
            "60000/60000 [==============================] - 5s 80us/sample - loss: 0.4627 - accuracy: 0.8597 - val_loss: 0.3000 - val_accuracy: 0.9155\n",
            "Epoch 51/200\n",
            "60000/60000 [==============================] - 5s 80us/sample - loss: 0.4592 - accuracy: 0.8600 - val_loss: 0.2974 - val_accuracy: 0.9163\n",
            "Epoch 52/200\n",
            "60000/60000 [==============================] - 5s 81us/sample - loss: 0.4529 - accuracy: 0.8627 - val_loss: 0.2950 - val_accuracy: 0.9164\n",
            "Epoch 53/200\n",
            "60000/60000 [==============================] - 5s 80us/sample - loss: 0.4498 - accuracy: 0.8619 - val_loss: 0.2924 - val_accuracy: 0.9169\n",
            "Epoch 54/200\n",
            "60000/60000 [==============================] - 5s 82us/sample - loss: 0.4478 - accuracy: 0.8656 - val_loss: 0.2899 - val_accuracy: 0.9175\n",
            "Epoch 55/200\n",
            "60000/60000 [==============================] - 5s 84us/sample - loss: 0.4466 - accuracy: 0.8650 - val_loss: 0.2879 - val_accuracy: 0.9178\n",
            "Epoch 56/200\n",
            "60000/60000 [==============================] - 5s 83us/sample - loss: 0.4414 - accuracy: 0.8647 - val_loss: 0.2852 - val_accuracy: 0.9193\n",
            "Epoch 57/200\n",
            "60000/60000 [==============================] - 5s 84us/sample - loss: 0.4386 - accuracy: 0.8673 - val_loss: 0.2833 - val_accuracy: 0.9194\n",
            "Epoch 58/200\n",
            "60000/60000 [==============================] - 5s 82us/sample - loss: 0.4345 - accuracy: 0.8686 - val_loss: 0.2808 - val_accuracy: 0.9203\n",
            "Epoch 59/200\n",
            "60000/60000 [==============================] - 5s 81us/sample - loss: 0.4300 - accuracy: 0.8691 - val_loss: 0.2785 - val_accuracy: 0.9203\n",
            "Epoch 60/200\n",
            "60000/60000 [==============================] - 5s 80us/sample - loss: 0.4298 - accuracy: 0.8699 - val_loss: 0.2767 - val_accuracy: 0.9213\n",
            "Epoch 61/200\n",
            "60000/60000 [==============================] - 5s 80us/sample - loss: 0.4280 - accuracy: 0.8695 - val_loss: 0.2746 - val_accuracy: 0.9229\n",
            "Epoch 62/200\n",
            "60000/60000 [==============================] - 5s 80us/sample - loss: 0.4199 - accuracy: 0.8735 - val_loss: 0.2725 - val_accuracy: 0.9222\n",
            "Epoch 63/200\n",
            "60000/60000 [==============================] - 5s 80us/sample - loss: 0.4198 - accuracy: 0.8723 - val_loss: 0.2705 - val_accuracy: 0.9230\n",
            "Epoch 64/200\n",
            "60000/60000 [==============================] - 5s 81us/sample - loss: 0.4174 - accuracy: 0.8723 - val_loss: 0.2687 - val_accuracy: 0.9242\n",
            "Epoch 65/200\n",
            "60000/60000 [==============================] - 5s 80us/sample - loss: 0.4156 - accuracy: 0.8749 - val_loss: 0.2666 - val_accuracy: 0.9245\n",
            "Epoch 66/200\n",
            "60000/60000 [==============================] - 5s 82us/sample - loss: 0.4140 - accuracy: 0.8741 - val_loss: 0.2649 - val_accuracy: 0.9247\n",
            "Epoch 67/200\n",
            "60000/60000 [==============================] - 5s 82us/sample - loss: 0.4124 - accuracy: 0.8757 - val_loss: 0.2633 - val_accuracy: 0.9255\n",
            "Epoch 68/200\n",
            "60000/60000 [==============================] - 5s 80us/sample - loss: 0.4053 - accuracy: 0.8788 - val_loss: 0.2611 - val_accuracy: 0.9258\n",
            "Epoch 69/200\n",
            "60000/60000 [==============================] - 5s 82us/sample - loss: 0.4066 - accuracy: 0.8777 - val_loss: 0.2595 - val_accuracy: 0.9265\n",
            "Epoch 70/200\n",
            "60000/60000 [==============================] - 5s 80us/sample - loss: 0.4059 - accuracy: 0.8765 - val_loss: 0.2576 - val_accuracy: 0.9271\n",
            "Epoch 71/200\n",
            "60000/60000 [==============================] - 5s 80us/sample - loss: 0.4006 - accuracy: 0.8804 - val_loss: 0.2562 - val_accuracy: 0.9270\n",
            "Epoch 72/200\n",
            "60000/60000 [==============================] - 5s 82us/sample - loss: 0.3988 - accuracy: 0.8787 - val_loss: 0.2543 - val_accuracy: 0.9271\n",
            "Epoch 73/200\n",
            "60000/60000 [==============================] - 5s 81us/sample - loss: 0.3990 - accuracy: 0.8799 - val_loss: 0.2530 - val_accuracy: 0.9284\n",
            "Epoch 74/200\n",
            "60000/60000 [==============================] - 5s 81us/sample - loss: 0.3956 - accuracy: 0.8807 - val_loss: 0.2517 - val_accuracy: 0.9281\n",
            "Epoch 75/200\n",
            "60000/60000 [==============================] - 5s 80us/sample - loss: 0.3970 - accuracy: 0.8792 - val_loss: 0.2502 - val_accuracy: 0.9281\n",
            "Epoch 76/200\n",
            "60000/60000 [==============================] - 5s 81us/sample - loss: 0.3898 - accuracy: 0.8822 - val_loss: 0.2489 - val_accuracy: 0.9287\n",
            "Epoch 77/200\n",
            "60000/60000 [==============================] - 5s 77us/sample - loss: 0.3918 - accuracy: 0.8823 - val_loss: 0.2471 - val_accuracy: 0.9289\n",
            "Epoch 78/200\n",
            "60000/60000 [==============================] - 5s 78us/sample - loss: 0.3899 - accuracy: 0.8827 - val_loss: 0.2460 - val_accuracy: 0.9292\n",
            "Epoch 79/200\n",
            "60000/60000 [==============================] - 5s 79us/sample - loss: 0.3893 - accuracy: 0.8819 - val_loss: 0.2448 - val_accuracy: 0.9296\n",
            "Epoch 80/200\n",
            "60000/60000 [==============================] - 5s 77us/sample - loss: 0.3839 - accuracy: 0.8840 - val_loss: 0.2431 - val_accuracy: 0.9296\n",
            "Epoch 81/200\n",
            "60000/60000 [==============================] - 5s 77us/sample - loss: 0.3825 - accuracy: 0.8851 - val_loss: 0.2414 - val_accuracy: 0.9306\n",
            "Epoch 82/200\n",
            "60000/60000 [==============================] - 5s 80us/sample - loss: 0.3816 - accuracy: 0.8858 - val_loss: 0.2402 - val_accuracy: 0.9310\n",
            "Epoch 83/200\n",
            "60000/60000 [==============================] - 5s 78us/sample - loss: 0.3747 - accuracy: 0.8878 - val_loss: 0.2389 - val_accuracy: 0.9312\n",
            "Epoch 84/200\n",
            "60000/60000 [==============================] - 5s 79us/sample - loss: 0.3776 - accuracy: 0.8862 - val_loss: 0.2374 - val_accuracy: 0.9317\n",
            "Epoch 85/200\n",
            "60000/60000 [==============================] - 5s 79us/sample - loss: 0.3730 - accuracy: 0.8877 - val_loss: 0.2359 - val_accuracy: 0.9321\n",
            "Epoch 86/200\n",
            "60000/60000 [==============================] - 5s 78us/sample - loss: 0.3706 - accuracy: 0.8880 - val_loss: 0.2348 - val_accuracy: 0.9322\n",
            "Epoch 87/200\n",
            "60000/60000 [==============================] - 5s 78us/sample - loss: 0.3722 - accuracy: 0.8872 - val_loss: 0.2335 - val_accuracy: 0.9327\n",
            "Epoch 88/200\n",
            "60000/60000 [==============================] - 5s 78us/sample - loss: 0.3711 - accuracy: 0.8882 - val_loss: 0.2325 - val_accuracy: 0.9330\n",
            "Epoch 89/200\n",
            "60000/60000 [==============================] - 5s 79us/sample - loss: 0.3696 - accuracy: 0.8883 - val_loss: 0.2310 - val_accuracy: 0.9335\n",
            "Epoch 90/200\n",
            "60000/60000 [==============================] - 5s 78us/sample - loss: 0.3680 - accuracy: 0.8891 - val_loss: 0.2298 - val_accuracy: 0.9340\n",
            "Epoch 91/200\n",
            "60000/60000 [==============================] - 5s 80us/sample - loss: 0.3668 - accuracy: 0.8899 - val_loss: 0.2289 - val_accuracy: 0.9334\n",
            "Epoch 92/200\n",
            "60000/60000 [==============================] - 5s 79us/sample - loss: 0.3573 - accuracy: 0.8928 - val_loss: 0.2273 - val_accuracy: 0.9341\n",
            "Epoch 93/200\n",
            "60000/60000 [==============================] - 5s 80us/sample - loss: 0.3603 - accuracy: 0.8918 - val_loss: 0.2265 - val_accuracy: 0.9341\n",
            "Epoch 94/200\n",
            "60000/60000 [==============================] - 5s 80us/sample - loss: 0.3595 - accuracy: 0.8926 - val_loss: 0.2254 - val_accuracy: 0.9342\n",
            "Epoch 95/200\n",
            "60000/60000 [==============================] - 5s 80us/sample - loss: 0.3593 - accuracy: 0.8925 - val_loss: 0.2240 - val_accuracy: 0.9350\n",
            "Epoch 96/200\n",
            "60000/60000 [==============================] - 5s 79us/sample - loss: 0.3553 - accuracy: 0.8930 - val_loss: 0.2232 - val_accuracy: 0.9350\n",
            "Epoch 97/200\n",
            "60000/60000 [==============================] - 5s 79us/sample - loss: 0.3535 - accuracy: 0.8942 - val_loss: 0.2220 - val_accuracy: 0.9353\n",
            "Epoch 98/200\n",
            "60000/60000 [==============================] - 5s 80us/sample - loss: 0.3562 - accuracy: 0.8934 - val_loss: 0.2210 - val_accuracy: 0.9359\n",
            "Epoch 99/200\n",
            "60000/60000 [==============================] - 5s 80us/sample - loss: 0.3504 - accuracy: 0.8947 - val_loss: 0.2198 - val_accuracy: 0.9362\n",
            "Epoch 100/200\n",
            "60000/60000 [==============================] - 5s 79us/sample - loss: 0.3525 - accuracy: 0.8950 - val_loss: 0.2190 - val_accuracy: 0.9362\n",
            "Epoch 101/200\n",
            "60000/60000 [==============================] - 5s 80us/sample - loss: 0.3480 - accuracy: 0.8963 - val_loss: 0.2180 - val_accuracy: 0.9368\n",
            "Epoch 102/200\n",
            "60000/60000 [==============================] - 5s 83us/sample - loss: 0.3495 - accuracy: 0.8952 - val_loss: 0.2170 - val_accuracy: 0.9370\n",
            "Epoch 103/200\n",
            "60000/60000 [==============================] - 5s 84us/sample - loss: 0.3431 - accuracy: 0.8957 - val_loss: 0.2160 - val_accuracy: 0.9366\n",
            "Epoch 104/200\n",
            "60000/60000 [==============================] - 5s 82us/sample - loss: 0.3466 - accuracy: 0.8965 - val_loss: 0.2149 - val_accuracy: 0.9376\n",
            "Epoch 105/200\n",
            "60000/60000 [==============================] - 5s 81us/sample - loss: 0.3439 - accuracy: 0.8964 - val_loss: 0.2140 - val_accuracy: 0.9379\n",
            "Epoch 106/200\n",
            "60000/60000 [==============================] - 5s 81us/sample - loss: 0.3421 - accuracy: 0.8963 - val_loss: 0.2129 - val_accuracy: 0.9383\n",
            "Epoch 107/200\n",
            "60000/60000 [==============================] - 5s 79us/sample - loss: 0.3432 - accuracy: 0.8975 - val_loss: 0.2121 - val_accuracy: 0.9384\n",
            "Epoch 108/200\n",
            "60000/60000 [==============================] - 5s 80us/sample - loss: 0.3419 - accuracy: 0.8967 - val_loss: 0.2114 - val_accuracy: 0.9384\n",
            "Epoch 109/200\n",
            "60000/60000 [==============================] - 5s 82us/sample - loss: 0.3388 - accuracy: 0.8981 - val_loss: 0.2102 - val_accuracy: 0.9388\n",
            "Epoch 110/200\n",
            "60000/60000 [==============================] - 5s 81us/sample - loss: 0.3371 - accuracy: 0.8988 - val_loss: 0.2091 - val_accuracy: 0.9395\n",
            "Epoch 111/200\n",
            "60000/60000 [==============================] - 5s 79us/sample - loss: 0.3339 - accuracy: 0.9007 - val_loss: 0.2083 - val_accuracy: 0.9389\n",
            "Epoch 112/200\n",
            "60000/60000 [==============================] - 5s 79us/sample - loss: 0.3360 - accuracy: 0.8988 - val_loss: 0.2074 - val_accuracy: 0.9395\n",
            "Epoch 113/200\n",
            "60000/60000 [==============================] - 5s 81us/sample - loss: 0.3329 - accuracy: 0.9006 - val_loss: 0.2064 - val_accuracy: 0.9402\n",
            "Epoch 114/200\n",
            "60000/60000 [==============================] - 5s 82us/sample - loss: 0.3329 - accuracy: 0.9006 - val_loss: 0.2054 - val_accuracy: 0.9397\n",
            "Epoch 115/200\n",
            "60000/60000 [==============================] - 5s 82us/sample - loss: 0.3329 - accuracy: 0.9012 - val_loss: 0.2045 - val_accuracy: 0.9405\n",
            "Epoch 116/200\n",
            "60000/60000 [==============================] - 5s 82us/sample - loss: 0.3310 - accuracy: 0.8998 - val_loss: 0.2040 - val_accuracy: 0.9401\n",
            "Epoch 117/200\n",
            "60000/60000 [==============================] - 5s 81us/sample - loss: 0.3328 - accuracy: 0.9006 - val_loss: 0.2031 - val_accuracy: 0.9411\n",
            "Epoch 118/200\n",
            "60000/60000 [==============================] - 5s 80us/sample - loss: 0.3278 - accuracy: 0.9019 - val_loss: 0.2023 - val_accuracy: 0.9410\n",
            "Epoch 119/200\n",
            "60000/60000 [==============================] - 5s 78us/sample - loss: 0.3295 - accuracy: 0.9020 - val_loss: 0.2014 - val_accuracy: 0.9408\n",
            "Epoch 120/200\n",
            "60000/60000 [==============================] - 5s 78us/sample - loss: 0.3250 - accuracy: 0.9048 - val_loss: 0.2008 - val_accuracy: 0.9410\n",
            "Epoch 121/200\n",
            "60000/60000 [==============================] - 5s 79us/sample - loss: 0.3271 - accuracy: 0.9015 - val_loss: 0.2001 - val_accuracy: 0.9414\n",
            "Epoch 122/200\n",
            "60000/60000 [==============================] - 5s 79us/sample - loss: 0.3254 - accuracy: 0.9035 - val_loss: 0.1992 - val_accuracy: 0.9419\n",
            "Epoch 123/200\n",
            "60000/60000 [==============================] - 5s 80us/sample - loss: 0.3259 - accuracy: 0.9029 - val_loss: 0.1984 - val_accuracy: 0.9422\n",
            "Epoch 124/200\n",
            "60000/60000 [==============================] - 5s 80us/sample - loss: 0.3225 - accuracy: 0.9029 - val_loss: 0.1976 - val_accuracy: 0.9419\n",
            "Epoch 125/200\n",
            "60000/60000 [==============================] - 5s 80us/sample - loss: 0.3232 - accuracy: 0.9031 - val_loss: 0.1970 - val_accuracy: 0.9424\n",
            "Epoch 126/200\n",
            "60000/60000 [==============================] - 5s 80us/sample - loss: 0.3207 - accuracy: 0.9043 - val_loss: 0.1960 - val_accuracy: 0.9427\n",
            "Epoch 127/200\n",
            "60000/60000 [==============================] - 5s 78us/sample - loss: 0.3176 - accuracy: 0.9036 - val_loss: 0.1952 - val_accuracy: 0.9427\n",
            "Epoch 128/200\n",
            "60000/60000 [==============================] - 5s 79us/sample - loss: 0.3196 - accuracy: 0.9046 - val_loss: 0.1944 - val_accuracy: 0.9433\n",
            "Epoch 129/200\n",
            "60000/60000 [==============================] - 5s 80us/sample - loss: 0.3183 - accuracy: 0.9046 - val_loss: 0.1938 - val_accuracy: 0.9430\n",
            "Epoch 130/200\n",
            "60000/60000 [==============================] - 5s 77us/sample - loss: 0.3158 - accuracy: 0.9051 - val_loss: 0.1930 - val_accuracy: 0.9435\n",
            "Epoch 131/200\n",
            "60000/60000 [==============================] - 5s 78us/sample - loss: 0.3136 - accuracy: 0.9066 - val_loss: 0.1924 - val_accuracy: 0.9438\n",
            "Epoch 132/200\n",
            "60000/60000 [==============================] - 5s 79us/sample - loss: 0.3124 - accuracy: 0.9058 - val_loss: 0.1914 - val_accuracy: 0.9442\n",
            "Epoch 133/200\n",
            "60000/60000 [==============================] - 5s 79us/sample - loss: 0.3157 - accuracy: 0.9053 - val_loss: 0.1908 - val_accuracy: 0.9445\n",
            "Epoch 134/200\n",
            "60000/60000 [==============================] - 5s 78us/sample - loss: 0.3116 - accuracy: 0.9061 - val_loss: 0.1902 - val_accuracy: 0.9446\n",
            "Epoch 135/200\n",
            "60000/60000 [==============================] - 5s 79us/sample - loss: 0.3096 - accuracy: 0.9076 - val_loss: 0.1896 - val_accuracy: 0.9448\n",
            "Epoch 136/200\n",
            "60000/60000 [==============================] - 5s 79us/sample - loss: 0.3087 - accuracy: 0.9082 - val_loss: 0.1886 - val_accuracy: 0.9453\n",
            "Epoch 137/200\n",
            "60000/60000 [==============================] - 5s 79us/sample - loss: 0.3066 - accuracy: 0.9086 - val_loss: 0.1878 - val_accuracy: 0.9449\n",
            "Epoch 138/200\n",
            "60000/60000 [==============================] - 5s 78us/sample - loss: 0.3093 - accuracy: 0.9075 - val_loss: 0.1873 - val_accuracy: 0.9458\n",
            "Epoch 139/200\n",
            "60000/60000 [==============================] - 5s 79us/sample - loss: 0.3064 - accuracy: 0.9089 - val_loss: 0.1867 - val_accuracy: 0.9455\n",
            "Epoch 140/200\n",
            "60000/60000 [==============================] - 5s 79us/sample - loss: 0.3046 - accuracy: 0.9086 - val_loss: 0.1859 - val_accuracy: 0.9455\n",
            "Epoch 141/200\n",
            "60000/60000 [==============================] - 5s 80us/sample - loss: 0.3030 - accuracy: 0.9086 - val_loss: 0.1852 - val_accuracy: 0.9461\n",
            "Epoch 142/200\n",
            "60000/60000 [==============================] - 5s 78us/sample - loss: 0.3038 - accuracy: 0.9094 - val_loss: 0.1846 - val_accuracy: 0.9464\n",
            "Epoch 143/200\n",
            "60000/60000 [==============================] - 5s 79us/sample - loss: 0.3010 - accuracy: 0.9096 - val_loss: 0.1840 - val_accuracy: 0.9470\n",
            "Epoch 144/200\n",
            "60000/60000 [==============================] - 5s 75us/sample - loss: 0.3013 - accuracy: 0.9100 - val_loss: 0.1833 - val_accuracy: 0.9466\n",
            "Epoch 145/200\n",
            "60000/60000 [==============================] - 4s 74us/sample - loss: 0.3033 - accuracy: 0.9102 - val_loss: 0.1824 - val_accuracy: 0.9467\n",
            "Epoch 146/200\n",
            "60000/60000 [==============================] - 4s 73us/sample - loss: 0.3015 - accuracy: 0.9103 - val_loss: 0.1819 - val_accuracy: 0.9468\n",
            "Epoch 147/200\n",
            "60000/60000 [==============================] - 4s 73us/sample - loss: 0.3041 - accuracy: 0.9099 - val_loss: 0.1816 - val_accuracy: 0.9471\n",
            "Epoch 148/200\n",
            "60000/60000 [==============================] - 5s 75us/sample - loss: 0.2969 - accuracy: 0.9117 - val_loss: 0.1811 - val_accuracy: 0.9477\n",
            "Epoch 149/200\n",
            "60000/60000 [==============================] - 5s 77us/sample - loss: 0.2970 - accuracy: 0.9112 - val_loss: 0.1804 - val_accuracy: 0.9477\n",
            "Epoch 150/200\n",
            "60000/60000 [==============================] - 5s 75us/sample - loss: 0.2959 - accuracy: 0.9131 - val_loss: 0.1797 - val_accuracy: 0.9477\n",
            "Epoch 151/200\n",
            "60000/60000 [==============================] - 5s 76us/sample - loss: 0.2956 - accuracy: 0.9115 - val_loss: 0.1791 - val_accuracy: 0.9482\n",
            "Epoch 152/200\n",
            "60000/60000 [==============================] - 5s 77us/sample - loss: 0.2978 - accuracy: 0.9120 - val_loss: 0.1784 - val_accuracy: 0.9482\n",
            "Epoch 153/200\n",
            "60000/60000 [==============================] - 5s 76us/sample - loss: 0.2937 - accuracy: 0.9133 - val_loss: 0.1775 - val_accuracy: 0.9479\n",
            "Epoch 154/200\n",
            "60000/60000 [==============================] - 5s 77us/sample - loss: 0.2927 - accuracy: 0.9133 - val_loss: 0.1770 - val_accuracy: 0.9482\n",
            "Epoch 155/200\n",
            "60000/60000 [==============================] - 5s 76us/sample - loss: 0.2903 - accuracy: 0.9126 - val_loss: 0.1765 - val_accuracy: 0.9487\n",
            "Epoch 156/200\n",
            "60000/60000 [==============================] - 5s 77us/sample - loss: 0.2930 - accuracy: 0.9137 - val_loss: 0.1759 - val_accuracy: 0.9484\n",
            "Epoch 157/200\n",
            "60000/60000 [==============================] - 5s 76us/sample - loss: 0.2906 - accuracy: 0.9138 - val_loss: 0.1755 - val_accuracy: 0.9490\n",
            "Epoch 158/200\n",
            "60000/60000 [==============================] - 5s 77us/sample - loss: 0.2849 - accuracy: 0.9136 - val_loss: 0.1745 - val_accuracy: 0.9492\n",
            "Epoch 159/200\n",
            "60000/60000 [==============================] - 5s 76us/sample - loss: 0.2893 - accuracy: 0.9135 - val_loss: 0.1741 - val_accuracy: 0.9490\n",
            "Epoch 160/200\n",
            "60000/60000 [==============================] - 5s 76us/sample - loss: 0.2879 - accuracy: 0.9143 - val_loss: 0.1737 - val_accuracy: 0.9495\n",
            "Epoch 161/200\n",
            "60000/60000 [==============================] - 5s 76us/sample - loss: 0.2844 - accuracy: 0.9154 - val_loss: 0.1728 - val_accuracy: 0.9494\n",
            "Epoch 162/200\n",
            "60000/60000 [==============================] - 5s 76us/sample - loss: 0.2878 - accuracy: 0.9145 - val_loss: 0.1726 - val_accuracy: 0.9493\n",
            "Epoch 163/200\n",
            "60000/60000 [==============================] - 5s 75us/sample - loss: 0.2864 - accuracy: 0.9147 - val_loss: 0.1722 - val_accuracy: 0.9495\n",
            "Epoch 164/200\n",
            "60000/60000 [==============================] - 5s 76us/sample - loss: 0.2874 - accuracy: 0.9147 - val_loss: 0.1713 - val_accuracy: 0.9498\n",
            "Epoch 165/200\n",
            "60000/60000 [==============================] - 5s 77us/sample - loss: 0.2843 - accuracy: 0.9161 - val_loss: 0.1710 - val_accuracy: 0.9496\n",
            "Epoch 166/200\n",
            "60000/60000 [==============================] - 4s 75us/sample - loss: 0.2810 - accuracy: 0.9154 - val_loss: 0.1705 - val_accuracy: 0.9496\n",
            "Epoch 167/200\n",
            "60000/60000 [==============================] - 5s 76us/sample - loss: 0.2845 - accuracy: 0.9157 - val_loss: 0.1700 - val_accuracy: 0.9499\n",
            "Epoch 168/200\n",
            "60000/60000 [==============================] - 5s 76us/sample - loss: 0.2827 - accuracy: 0.9167 - val_loss: 0.1691 - val_accuracy: 0.9501\n",
            "Epoch 169/200\n",
            "60000/60000 [==============================] - 4s 75us/sample - loss: 0.2812 - accuracy: 0.9173 - val_loss: 0.1687 - val_accuracy: 0.9500\n",
            "Epoch 170/200\n",
            "60000/60000 [==============================] - 4s 74us/sample - loss: 0.2765 - accuracy: 0.9166 - val_loss: 0.1683 - val_accuracy: 0.9503\n",
            "Epoch 171/200\n",
            "60000/60000 [==============================] - 5s 75us/sample - loss: 0.2769 - accuracy: 0.9178 - val_loss: 0.1679 - val_accuracy: 0.9506\n",
            "Epoch 172/200\n",
            "60000/60000 [==============================] - 4s 75us/sample - loss: 0.2799 - accuracy: 0.9173 - val_loss: 0.1671 - val_accuracy: 0.9503\n",
            "Epoch 173/200\n",
            "60000/60000 [==============================] - 4s 74us/sample - loss: 0.2764 - accuracy: 0.9179 - val_loss: 0.1666 - val_accuracy: 0.9507\n",
            "Epoch 174/200\n",
            "60000/60000 [==============================] - 4s 74us/sample - loss: 0.2761 - accuracy: 0.9170 - val_loss: 0.1660 - val_accuracy: 0.9505\n",
            "Epoch 175/200\n",
            "60000/60000 [==============================] - 4s 75us/sample - loss: 0.2781 - accuracy: 0.9172 - val_loss: 0.1656 - val_accuracy: 0.9505\n",
            "Epoch 176/200\n",
            "60000/60000 [==============================] - 5s 76us/sample - loss: 0.2771 - accuracy: 0.9171 - val_loss: 0.1650 - val_accuracy: 0.9502\n",
            "Epoch 177/200\n",
            "60000/60000 [==============================] - 5s 75us/sample - loss: 0.2748 - accuracy: 0.9192 - val_loss: 0.1646 - val_accuracy: 0.9506\n",
            "Epoch 178/200\n",
            "60000/60000 [==============================] - 4s 74us/sample - loss: 0.2737 - accuracy: 0.9182 - val_loss: 0.1640 - val_accuracy: 0.9505\n",
            "Epoch 179/200\n",
            "60000/60000 [==============================] - 5s 75us/sample - loss: 0.2742 - accuracy: 0.9193 - val_loss: 0.1634 - val_accuracy: 0.9508\n",
            "Epoch 180/200\n",
            "60000/60000 [==============================] - 4s 74us/sample - loss: 0.2749 - accuracy: 0.9184 - val_loss: 0.1633 - val_accuracy: 0.9506\n",
            "Epoch 181/200\n",
            "60000/60000 [==============================] - 5s 80us/sample - loss: 0.2723 - accuracy: 0.9195 - val_loss: 0.1626 - val_accuracy: 0.9515\n",
            "Epoch 182/200\n",
            "60000/60000 [==============================] - 5s 83us/sample - loss: 0.2730 - accuracy: 0.9204 - val_loss: 0.1617 - val_accuracy: 0.9515\n",
            "Epoch 183/200\n",
            "60000/60000 [==============================] - 5s 84us/sample - loss: 0.2714 - accuracy: 0.9196 - val_loss: 0.1613 - val_accuracy: 0.9516\n",
            "Epoch 184/200\n",
            "60000/60000 [==============================] - 5s 84us/sample - loss: 0.2721 - accuracy: 0.9187 - val_loss: 0.1613 - val_accuracy: 0.9516\n",
            "Epoch 185/200\n",
            "60000/60000 [==============================] - 5s 83us/sample - loss: 0.2667 - accuracy: 0.9212 - val_loss: 0.1606 - val_accuracy: 0.9520\n",
            "Epoch 186/200\n",
            "60000/60000 [==============================] - 5s 78us/sample - loss: 0.2642 - accuracy: 0.9226 - val_loss: 0.1600 - val_accuracy: 0.9521\n",
            "Epoch 187/200\n",
            "60000/60000 [==============================] - 5s 78us/sample - loss: 0.2673 - accuracy: 0.9213 - val_loss: 0.1596 - val_accuracy: 0.9517\n",
            "Epoch 188/200\n",
            "60000/60000 [==============================] - 5s 77us/sample - loss: 0.2688 - accuracy: 0.9199 - val_loss: 0.1591 - val_accuracy: 0.9519\n",
            "Epoch 189/200\n",
            "60000/60000 [==============================] - 5s 75us/sample - loss: 0.2648 - accuracy: 0.9215 - val_loss: 0.1585 - val_accuracy: 0.9524\n",
            "Epoch 190/200\n",
            "60000/60000 [==============================] - 5s 75us/sample - loss: 0.2669 - accuracy: 0.9210 - val_loss: 0.1584 - val_accuracy: 0.9525\n",
            "Epoch 191/200\n",
            "60000/60000 [==============================] - 5s 76us/sample - loss: 0.2625 - accuracy: 0.9211 - val_loss: 0.1576 - val_accuracy: 0.9525\n",
            "Epoch 192/200\n",
            "60000/60000 [==============================] - 5s 78us/sample - loss: 0.2646 - accuracy: 0.9216 - val_loss: 0.1573 - val_accuracy: 0.9528\n",
            "Epoch 193/200\n",
            "60000/60000 [==============================] - 5s 79us/sample - loss: 0.2642 - accuracy: 0.9215 - val_loss: 0.1568 - val_accuracy: 0.9535\n",
            "Epoch 194/200\n",
            "60000/60000 [==============================] - 5s 79us/sample - loss: 0.2637 - accuracy: 0.9212 - val_loss: 0.1564 - val_accuracy: 0.9529\n",
            "Epoch 195/200\n",
            "60000/60000 [==============================] - 5s 80us/sample - loss: 0.2629 - accuracy: 0.9233 - val_loss: 0.1557 - val_accuracy: 0.9531\n",
            "Epoch 196/200\n",
            "60000/60000 [==============================] - 5s 82us/sample - loss: 0.2616 - accuracy: 0.9223 - val_loss: 0.1551 - val_accuracy: 0.9534\n",
            "Epoch 197/200\n",
            "60000/60000 [==============================] - 5s 81us/sample - loss: 0.2627 - accuracy: 0.9218 - val_loss: 0.1548 - val_accuracy: 0.9532\n",
            "Epoch 198/200\n",
            "60000/60000 [==============================] - 5s 81us/sample - loss: 0.2612 - accuracy: 0.9237 - val_loss: 0.1544 - val_accuracy: 0.9536\n",
            "Epoch 199/200\n",
            "60000/60000 [==============================] - 5s 81us/sample - loss: 0.2612 - accuracy: 0.9218 - val_loss: 0.1541 - val_accuracy: 0.9539\n",
            "Epoch 200/200\n",
            "60000/60000 [==============================] - 5s 82us/sample - loss: 0.2625 - accuracy: 0.9221 - val_loss: 0.1535 - val_accuracy: 0.9540\n"
          ],
          "name": "stdout"
        }
      ]
    },
    {
      "cell_type": "code",
      "metadata": {
        "id": "4ASx0yetT6Ln",
        "colab_type": "code",
        "colab": {}
      },
      "source": [
        ""
      ],
      "execution_count": 0,
      "outputs": []
    },
    {
      "cell_type": "markdown",
      "metadata": {
        "id": "SA7sT8t-bVPJ",
        "colab_type": "text"
      },
      "source": [
        "# Eval"
      ]
    },
    {
      "cell_type": "code",
      "metadata": {
        "id": "qyHU9hyAbWFc",
        "colab_type": "code",
        "outputId": "2361673b-ab77-4402-c614-cb52e08e9760",
        "colab": {
          "base_uri": "https://localhost:8080/",
          "height": 621
        }
      },
      "source": [
        "acc = hst.history['accuracy']\n",
        "val_acc = hst.history['val_accuracy']\n",
        "\n",
        "loss = hst.history['loss']\n",
        "val_loss = hst.history['val_loss']\n",
        "\n",
        "plt.figure(figsize=(10, 10))\n",
        "plt.subplot(2, 1, 1)\n",
        "plt.plot(acc, label='Training Accuracy')\n",
        "plt.plot(val_acc, label='Validation Accuracy')\n",
        "plt.legend(loc='lower right')\n",
        "plt.setp(plt.legend().get_texts(), color='black')\n",
        "plt.ylabel('Accuracy')\n",
        "plt.title('Training and Validation Accuracy')\n",
        "\n",
        "plt.subplot(2, 1, 2)\n",
        "plt.plot(loss, label='Training Loss')\n",
        "plt.plot(val_loss, label='Validation Loss')\n",
        "plt.legend(loc='upper right')\n",
        "plt.setp(plt.legend().get_texts(), color='black')\n",
        "plt.ylabel('Cross Entropy')\n",
        "plt.title('Training and Validation Loss')\n",
        "plt.xlabel('epoch')\n",
        "plt.show()\n"
      ],
      "execution_count": 13,
      "outputs": [
        {
          "output_type": "display_data",
          "data": {
            "image/png": "[encoded data removed]",
            "text/plain": [
              "<Figure size 720x720 with 2 Axes>"
            ]
          },
          "metadata": {
            "tags": []
          }
        }
      ]
    },
    {
      "cell_type": "code",
      "metadata": {
        "id": "WmmqTISdnrYI",
        "colab_type": "code",
        "outputId": "dba0309f-13e0-44e5-ede0-f63c929f1128",
        "colab": {
          "base_uri": "https://localhost:8080/",
          "height": 51
        }
      },
      "source": [
        "test_loss, test_acc = model.evaluate(x_test,  y_test, verbose=3)\n",
        "\n",
        "print('Loss:', test_loss)\n",
        "print('Accuracy:', test_acc)"
      ],
      "execution_count": 14,
      "outputs": [
        {
          "output_type": "stream",
          "text": [
            "Loss: 0.15348183989450334\n",
            "Accuracy: 0.954\n"
          ],
          "name": "stdout"
        }
      ]
    },
    {
      "cell_type": "code",
      "metadata": {
        "id": "Kzo3gwUc3Kmy",
        "colab_type": "code",
        "colab": {}
      },
      "source": [
        ""
      ],
      "execution_count": 0,
      "outputs": []
    },
    {
      "cell_type": "markdown",
      "metadata": {
        "id": "CR7SAodE31tU",
        "colab_type": "text"
      },
      "source": [
        "# Make Predictions"
      ]
    },
    {
      "cell_type": "code",
      "metadata": {
        "id": "6NcChMXY327K",
        "colab_type": "code",
        "colab": {}
      },
      "source": [
        "predictions = model.predict(x_test)"
      ],
      "execution_count": 0,
      "outputs": []
    },
    {
      "cell_type": "code",
      "metadata": {
        "id": "4S7Vxkxh4Vw1",
        "colab_type": "code",
        "colab": {}
      },
      "source": [
        "def plot_image(i, predictions_array, true_label, img):\n",
        "  predictions_array, true_label, img = predictions_array, true_label[i], img[i]\n",
        "  plt.grid(False)\n",
        "  plt.xticks([])\n",
        "  plt.yticks([])\n",
        "\n",
        "  plt.imshow(img, cmap=plt.cm.binary)\n",
        "\n",
        "  predicted_label = np.argmax(predictions_array)\n",
        "  if predicted_label == true_label:\n",
        "    color = 'blue'\n",
        "  else:\n",
        "    color = 'red'\n",
        "\n",
        "def plot_value_array(i, predictions_array, true_label):\n",
        "  predictions_array, true_label = predictions_array, true_label[i]\n",
        "  plt.grid(False)\n",
        "  plt.xticks(range(10))\n",
        "  plt.yticks([])\n",
        "  thisplot = plt.bar(range(10), predictions_array, color=\"#777777\")\n",
        "  plt.ylim([0, 1])\n",
        "  predicted_label = np.argmax(predictions_array)\n",
        "\n",
        "  thisplot[predicted_label].set_color('red')\n",
        "  thisplot[true_label].set_color('blue')"
      ],
      "execution_count": 0,
      "outputs": []
    },
    {
      "cell_type": "code",
      "metadata": {
        "id": "eH995j0Q7I3T",
        "colab_type": "code",
        "outputId": "28ebfa73-7d5a-402c-909b-1cd5e10d0061",
        "colab": {
          "base_uri": "https://localhost:8080/",
          "height": 211
        }
      },
      "source": [
        "import random\n",
        "\n",
        "i = random.randrange(0, 10001, 1)\n",
        "plt.figure(figsize=(6,3))\n",
        "plt.subplot(1,2,1)\n",
        "plot_image(i, predictions[i], y_test_demo, x_test_demo)\n",
        "plt.subplot(1,2,2)\n",
        "plot_value_array(i, predictions[i],  y_test_demo)\n",
        "plt.show()"
      ],
      "execution_count": 17,
      "outputs": [
        {
          "output_type": "display_data",
          "data": {
            "image/png": "[encoded data removed]",
            "text/plain": [
              "<Figure size 432x216 with 2 Axes>"
            ]
          },
          "metadata": {
            "tags": []
          }
        }
      ]
    },
    {
      "cell_type": "code",
      "metadata": {
        "id": "KRAtmZWm7Nkl",
        "colab_type": "code",
        "colab": {}
      },
      "source": [
        ""
      ],
      "execution_count": 0,
      "outputs": []
    }
  ]
}