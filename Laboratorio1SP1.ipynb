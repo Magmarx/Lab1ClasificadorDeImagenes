{
  "nbformat": 4,
  "nbformat_minor": 0,
  "metadata": {
    "colab": {
      "name": "Laboratorio1SP1.ipynb",
      "provenance": [],
      "collapsed_sections": []
    },
    "kernelspec": {
      "name": "python3",
      "display_name": "Python 3"
    }
  },
  "cells": [
    {
      "cell_type": "markdown",
      "metadata": {
        "id": "c9JGltp-2s9r",
        "colab_type": "text"
      },
      "source": [
        "# Imports (En esta sección vamos a importar todas las librerias que precisaremos)"
      ]
    },
    {
      "cell_type": "code",
      "metadata": {
        "id": "6GHZmcxZ2tr_",
        "colab_type": "code",
        "outputId": "4774dd0f-6623-404d-c1a9-89868a89835b",
        "colab": {
          "base_uri": "https://localhost:8080/",
          "height": 34
        }
      },
      "source": [
        "%tensorflow_version 2.x\n",
        "\n",
        "import tensorflow as tf\n",
        "\n",
        "from tensorflow.keras.datasets import mnist\n",
        "from tensorflow.keras.models import Sequential\n",
        "from tensorflow.keras.layers import Dense, Dropout, Flatten, Conv2D, MaxPooling2D\n",
        "from tensorflow.keras import backend as back\n",
        "\n",
        "import numpy as np\n",
        "import PIL.Image as Image\n",
        "import matplotlib.pylab as plt\n",
        "\n",
        "# Colocamos la seed para poder replicar los experimentos más delante\n",
        "seed=1998\n",
        "np.random.seed(seed)\n",
        "tf.random.set_seed(seed)"
      ],
      "execution_count": 1,
      "outputs": [
        {
          "output_type": "stream",
          "text": [
            "TensorFlow 2.x selected.\n"
          ],
          "name": "stdout"
        }
      ]
    },
    {
      "cell_type": "code",
      "metadata": {
        "id": "e6DxiR323KA1",
        "colab_type": "code",
        "colab": {}
      },
      "source": [
        ""
      ],
      "execution_count": 0,
      "outputs": []
    },
    {
      "cell_type": "markdown",
      "metadata": {
        "id": "JGumdsJbJoBh",
        "colab_type": "text"
      },
      "source": [
        "# Variables Globales"
      ]
    },
    {
      "cell_type": "code",
      "metadata": {
        "id": "0s_rwSxlJqrp",
        "colab_type": "code",
        "colab": {}
      },
      "source": [
        "batch_size = 128\n",
        "num_classes = 10\n",
        "epochs = 12\n",
        "img_rows, img_cols = 28, 28\n",
        "class_names = ['0', '1', '2', '3', '4', '5', '6', '7', '8', '9']"
      ],
      "execution_count": 0,
      "outputs": []
    },
    {
      "cell_type": "markdown",
      "metadata": {
        "id": "chWk52kZ3quj",
        "colab_type": "text"
      },
      "source": [
        "# Dataset prep (En esta sección vamos a preparar el dataset para que tenga el formato optimo para clasificar)"
      ]
    },
    {
      "cell_type": "markdown",
      "metadata": {
        "id": "GziQzC5Z37_k",
        "colab_type": "text"
      },
      "source": [
        "## Loading the dataset"
      ]
    },
    {
      "cell_type": "code",
      "metadata": {
        "id": "GSgOh3PQ39jk",
        "colab_type": "code",
        "colab": {}
      },
      "source": [
        "(x_train, y_train), (x_test, y_test) = mnist.load_data()\n",
        "x_test_demo = x_test\n",
        "y_test_demo = y_test"
      ],
      "execution_count": 0,
      "outputs": []
    },
    {
      "cell_type": "code",
      "metadata": {
        "id": "V1La7iEIaXoW",
        "colab_type": "code",
        "outputId": "f52faa32-42e1-45c8-a872-728088e1c449",
        "colab": {
          "base_uri": "https://localhost:8080/",
          "height": 248
        }
      },
      "source": [
        "plt.imshow(x_train[1])\n",
        "plt.axis('off')\n",
        "plt.show()"
      ],
      "execution_count": 4,
      "outputs": [
        {
          "output_type": "display_data",
          "data": {
            "image/png": "[encoded data removed]",
            "text/plain": [
              "<Figure size 432x288 with 1 Axes>"
            ]
          },
          "metadata": {
            "tags": []
          }
        }
      ]
    },
    {
      "cell_type": "code",
      "metadata": {
        "id": "nysSkrHbaax5",
        "colab_type": "code",
        "outputId": "ab3e32c7-b71d-4045-da55-db1f4ce22412",
        "colab": {
          "base_uri": "https://localhost:8080/",
          "height": 252
        }
      },
      "source": [
        "plt.figure()\n",
        "for i in range(25):\n",
        "    plt.subplot(5,5,i+1)\n",
        "    plt.xticks([])\n",
        "    plt.yticks([])\n",
        "    plt.grid(False)\n",
        "    plt.imshow(x_train[i], cmap=plt.cm.binary)\n",
        "plt.show()"
      ],
      "execution_count": 5,
      "outputs": [
        {
          "output_type": "display_data",
          "data": {
            "image/png": "[encoded data removed]",
            "text/plain": [
              "<Figure size 432x288 with 25 Axes>"
            ]
          },
          "metadata": {
            "tags": []
          }
        }
      ]
    },
    {
      "cell_type": "code",
      "metadata": {
        "id": "D1k5j0F-Jybi",
        "colab_type": "code",
        "colab": {}
      },
      "source": [
        "if back.image_data_format() == 'channels_first':\n",
        "    x_train = x_train.reshape(x_train.shape[0], 1, img_rows, img_cols)\n",
        "    x_test = x_test.reshape(x_test.shape[0], 1, img_rows, img_cols)\n",
        "    input_shape = (1, img_rows, img_cols)\n",
        "else:\n",
        "    x_train = x_train.reshape(x_train.shape[0], img_rows, img_cols, 1)\n",
        "    x_test = x_test.reshape(x_test.shape[0], img_rows, img_cols, 1)\n",
        "    input_shape = (img_rows, img_cols, 1)"
      ],
      "execution_count": 0,
      "outputs": []
    },
    {
      "cell_type": "code",
      "metadata": {
        "id": "6ldvJt2wJ9js",
        "colab_type": "code",
        "colab": {}
      },
      "source": [
        "x_train = x_train.astype('float32')\n",
        "x_test = x_test.astype('float32')\n",
        "x_train /= 255\n",
        "x_test /= 255"
      ],
      "execution_count": 0,
      "outputs": []
    },
    {
      "cell_type": "code",
      "metadata": {
        "id": "fCPeWeKh9HNX",
        "colab_type": "code",
        "outputId": "d8a8cc11-9b9f-425f-bc54-006573b4b5a9",
        "colab": {
          "base_uri": "https://localhost:8080/",
          "height": 68
        }
      },
      "source": [
        "print('train_images shape:', x_train.shape)\n",
        "print(x_train.shape[0], 'train samples')\n",
        "print(x_test.shape[0], 'test samples')"
      ],
      "execution_count": 8,
      "outputs": [
        {
          "output_type": "stream",
          "text": [
            "train_images shape: (60000, 28, 28, 1)\n",
            "60000 train samples\n",
            "10000 test samples\n"
          ],
          "name": "stdout"
        }
      ]
    },
    {
      "cell_type": "code",
      "metadata": {
        "id": "oSs8wv4aKHl_",
        "colab_type": "code",
        "colab": {}
      },
      "source": [
        "y_train = tf.keras.utils.to_categorical(y_train, num_classes)\n",
        "y_test = tf.keras.utils.to_categorical(y_test, num_classes)"
      ],
      "execution_count": 0,
      "outputs": []
    },
    {
      "cell_type": "markdown",
      "metadata": {
        "id": "ImiCetxtDvVy",
        "colab_type": "text"
      },
      "source": [
        "# Building the model (En esta sección vamos a configurar nuestro dataset de manera que obtengamos un resultado mayor al 70% de accuracy)"
      ]
    },
    {
      "cell_type": "code",
      "metadata": {
        "id": "HZqkz3PUDyEq",
        "colab_type": "code",
        "colab": {}
      },
      "source": [
        "# Model 1\n",
        "# acc:  0.8384\n",
        "model = Sequential([\n",
        "        Conv2D(32, kernel_size=(3, 3),\n",
        "                 activation='relu',\n",
        "                 input_shape=input_shape),\n",
        "        Conv2D(64, (3, 3), activation='relu'),\n",
        "        MaxPooling2D(pool_size=(2, 2)),\n",
        "        Dropout(0.25),\n",
        "        Flatten(),\n",
        "        Dense(128, activation='relu'),\n",
        "        Dropout(0.5),\n",
        "        Dense(num_classes, activation='softmax')\n",
        "])\n",
        "\n",
        "# Model 2\n",
        "# acc:  0.7384\n",
        "# model = Sequential([\n",
        "#         Conv2D(34, kernel_size=(5, 5),\n",
        "#                  activation='relu',\n",
        "#                  input_shape=input_shape),\n",
        "#         MaxPooling2D(pool_size=(2, 2)),\n",
        "#         Conv2D(64, (5, 5), activation='relu'),\n",
        "#         MaxPooling2D(pool_size=(2, 2)),\n",
        "#         Dropout(0.25),\n",
        "#         Flatten(),\n",
        "#         Dense(128, activation='relu'),\n",
        "#         Dropout(0.5),\n",
        "#         Dense(num_classes, activation='softmax')\n",
        "# ])\n",
        "\n",
        "# Model 3\n",
        "# acc:  0.70\n",
        "# model = Sequential([\n",
        "#         Conv2D(32, kernel_size=(5, 5),\n",
        "#                  activation='relu',\n",
        "#                  input_shape=input_shape),\n",
        "#         MaxPooling2D(pool_size=(2, 2)),\n",
        "#         Conv2D(6, (5, 5), activation='relu'),\n",
        "#         MaxPooling2D(pool_size=(2, 2)),\n",
        "#         Flatten(),\n",
        "#         Dense(1024, activation='relu'),\n",
        "#         Dropout(0.4),\n",
        "#         Dense(num_classes, activation='softmax')\n",
        "# ])"
      ],
      "execution_count": 0,
      "outputs": []
    },
    {
      "cell_type": "markdown",
      "metadata": {
        "id": "LNyHhb-CbT3V",
        "colab_type": "text"
      },
      "source": [
        ""
      ]
    },
    {
      "cell_type": "code",
      "metadata": {
        "id": "Nc_-eSC2HTnZ",
        "colab_type": "code",
        "colab": {}
      },
      "source": [
        "model.compile(loss=tf.keras.losses.categorical_crossentropy,\n",
        "              optimizer=tf.keras.optimizers.Adadelta(),\n",
        "              metrics=['accuracy'])"
      ],
      "execution_count": 0,
      "outputs": []
    },
    {
      "cell_type": "code",
      "metadata": {
        "id": "_mIaCltkHic1",
        "colab_type": "code",
        "outputId": "a13ee489-297a-4aaf-a523-b916f8d55b57",
        "colab": {
          "base_uri": "https://localhost:8080/",
          "height": 442
        }
      },
      "source": [
        "hst = model.fit(x_train, y_train,\n",
        "          batch_size=batch_size,\n",
        "          epochs=epochs,\n",
        "          verbose=1,\n",
        "          validation_data=(x_test, y_test))"
      ],
      "execution_count": 12,
      "outputs": [
        {
          "output_type": "stream",
          "text": [
            "Train on 60000 samples, validate on 10000 samples\n",
            "Epoch 1/12\n",
            "60000/60000 [==============================] - 143s 2ms/sample - loss: 2.2815 - accuracy: 0.1385 - val_loss: 2.2458 - val_accuracy: 0.2111\n",
            "Epoch 2/12\n",
            "60000/60000 [==============================] - 142s 2ms/sample - loss: 2.2209 - accuracy: 0.2280 - val_loss: 2.1673 - val_accuracy: 0.3767\n",
            "Epoch 3/12\n",
            "60000/60000 [==============================] - 142s 2ms/sample - loss: 2.1392 - accuracy: 0.3225 - val_loss: 2.0613 - val_accuracy: 0.5713\n",
            "Epoch 4/12\n",
            "60000/60000 [==============================] - 142s 2ms/sample - loss: 2.0300 - accuracy: 0.4211 - val_loss: 1.9225 - val_accuracy: 0.6711\n",
            "Epoch 5/12\n",
            "60000/60000 [==============================] - 142s 2ms/sample - loss: 1.8902 - accuracy: 0.5058 - val_loss: 1.7450 - val_accuracy: 0.7281\n",
            "Epoch 6/12\n",
            "60000/60000 [==============================] - 142s 2ms/sample - loss: 1.7198 - accuracy: 0.5663 - val_loss: 1.5367 - val_accuracy: 0.7543\n",
            "Epoch 7/12\n",
            "60000/60000 [==============================] - 142s 2ms/sample - loss: 1.5412 - accuracy: 0.6051 - val_loss: 1.3253 - val_accuracy: 0.7727\n",
            "Epoch 8/12\n",
            "60000/60000 [==============================] - 142s 2ms/sample - loss: 1.3751 - accuracy: 0.6354 - val_loss: 1.1397 - val_accuracy: 0.7928\n",
            "Epoch 9/12\n",
            "60000/60000 [==============================] - 142s 2ms/sample - loss: 1.2363 - accuracy: 0.6585 - val_loss: 0.9921 - val_accuracy: 0.8084\n",
            "Epoch 10/12\n",
            "60000/60000 [==============================] - 141s 2ms/sample - loss: 1.1249 - accuracy: 0.6790 - val_loss: 0.8788 - val_accuracy: 0.8200\n",
            "Epoch 11/12\n",
            "60000/60000 [==============================] - 143s 2ms/sample - loss: 1.0396 - accuracy: 0.6953 - val_loss: 0.7921 - val_accuracy: 0.8306\n",
            "Epoch 12/12\n",
            "60000/60000 [==============================] - 143s 2ms/sample - loss: 0.9739 - accuracy: 0.7104 - val_loss: 0.7251 - val_accuracy: 0.8384\n"
          ],
          "name": "stdout"
        }
      ]
    },
    {
      "cell_type": "code",
      "metadata": {
        "id": "4ASx0yetT6Ln",
        "colab_type": "code",
        "colab": {}
      },
      "source": [
        ""
      ],
      "execution_count": 0,
      "outputs": []
    },
    {
      "cell_type": "markdown",
      "metadata": {
        "id": "SA7sT8t-bVPJ",
        "colab_type": "text"
      },
      "source": [
        "# Eval"
      ]
    },
    {
      "cell_type": "code",
      "metadata": {
        "id": "qyHU9hyAbWFc",
        "colab_type": "code",
        "outputId": "15e6f0bb-ab91-4a7c-ffc7-c00e68d5a911",
        "colab": {
          "base_uri": "https://localhost:8080/",
          "height": 621
        }
      },
      "source": [
        "acc = hst.history['accuracy']\n",
        "val_acc = hst.history['val_accuracy']\n",
        "\n",
        "loss = hst.history['loss']\n",
        "val_loss = hst.history['val_loss']\n",
        "\n",
        "plt.figure(figsize=(10, 10))\n",
        "plt.subplot(2, 1, 1)\n",
        "plt.plot(acc, label='Training Accuracy')\n",
        "plt.plot(val_acc, label='Validation Accuracy')\n",
        "plt.legend(loc='lower right')\n",
        "plt.setp(plt.legend().get_texts(), color='black')\n",
        "plt.ylabel('Accuracy')\n",
        "plt.ylim([min(plt.ylim()),0.7])\n",
        "plt.title('Training and Validation Accuracy')\n",
        "\n",
        "plt.subplot(2, 1, 2)\n",
        "plt.plot(loss, label='Training Loss')\n",
        "plt.plot(val_loss, label='Validation Loss')\n",
        "plt.legend(loc='upper right')\n",
        "plt.setp(plt.legend().get_texts(), color='black')\n",
        "plt.ylabel('Cross Entropy')\n",
        "plt.ylim([0.5,2.0])\n",
        "plt.title('Training and Validation Loss')\n",
        "plt.xlabel('epoch')\n",
        "plt.show()\n"
      ],
      "execution_count": 13,
      "outputs": [
        {
          "output_type": "display_data",
          "data": {
            "image/png": "[encoded data removed]",
            "text/plain": [
              "<Figure size 720x720 with 2 Axes>"
            ]
          },
          "metadata": {
            "tags": []
          }
        }
      ]
    },
    {
      "cell_type": "code",
      "metadata": {
        "id": "WmmqTISdnrYI",
        "colab_type": "code",
        "outputId": "96d7ed4b-bc1d-4498-f1ee-d465a7e44968",
        "colab": {
          "base_uri": "https://localhost:8080/",
          "height": 51
        }
      },
      "source": [
        "test_loss, test_acc = model.evaluate(x_test,  y_test, verbose=3)\n",
        "\n",
        "print('Loss:', test_loss)\n",
        "print('Accuracy:', test_acc)"
      ],
      "execution_count": 14,
      "outputs": [
        {
          "output_type": "stream",
          "text": [
            "Loss: 0.7251031844139099\n",
            "Accuracy: 0.8384\n"
          ],
          "name": "stdout"
        }
      ]
    },
    {
      "cell_type": "code",
      "metadata": {
        "id": "Kzo3gwUc3Kmy",
        "colab_type": "code",
        "colab": {}
      },
      "source": [
        ""
      ],
      "execution_count": 0,
      "outputs": []
    },
    {
      "cell_type": "markdown",
      "metadata": {
        "id": "CR7SAodE31tU",
        "colab_type": "text"
      },
      "source": [
        "# Make Predictions"
      ]
    },
    {
      "cell_type": "code",
      "metadata": {
        "id": "6NcChMXY327K",
        "colab_type": "code",
        "colab": {}
      },
      "source": [
        "predictions = model.predict(x_test)"
      ],
      "execution_count": 0,
      "outputs": []
    },
    {
      "cell_type": "code",
      "metadata": {
        "id": "4S7Vxkxh4Vw1",
        "colab_type": "code",
        "colab": {}
      },
      "source": [
        "def plot_image(i, predictions_array, true_label, img):\n",
        "  predictions_array, true_label, img = predictions_array, true_label[i], img[i]\n",
        "  plt.grid(False)\n",
        "  plt.xticks([])\n",
        "  plt.yticks([])\n",
        "\n",
        "  plt.imshow(img, cmap=plt.cm.binary)\n",
        "\n",
        "  predicted_label = np.argmax(predictions_array)\n",
        "  if predicted_label == true_label:\n",
        "    color = 'blue'\n",
        "  else:\n",
        "    color = 'red'\n",
        "\n",
        "def plot_value_array(i, predictions_array, true_label):\n",
        "  predictions_array, true_label = predictions_array, true_label[i]\n",
        "  plt.grid(False)\n",
        "  plt.xticks(range(10))\n",
        "  plt.yticks([])\n",
        "  thisplot = plt.bar(range(10), predictions_array, color=\"#777777\")\n",
        "  plt.ylim([0, 1])\n",
        "  predicted_label = np.argmax(predictions_array)\n",
        "\n",
        "  thisplot[predicted_label].set_color('red')\n",
        "  thisplot[true_label].set_color('blue')"
      ],
      "execution_count": 0,
      "outputs": []
    },
    {
      "cell_type": "code",
      "metadata": {
        "id": "eH995j0Q7I3T",
        "colab_type": "code",
        "outputId": "a0529ab5-eb80-429e-ea04-7373928048a9",
        "colab": {
          "base_uri": "https://localhost:8080/",
          "height": 211
        }
      },
      "source": [
        "import random\n",
        "\n",
        "i = random.randrange(0, 10001, 1)\n",
        "plt.figure(figsize=(6,3))\n",
        "plt.subplot(1,2,1)\n",
        "plot_image(i, predictions[i], y_test_demo, x_test_demo)\n",
        "plt.subplot(1,2,2)\n",
        "plot_value_array(i, predictions[i],  y_test_demo)\n",
        "plt.show()"
      ],
      "execution_count": 17,
      "outputs": [
        {
          "output_type": "display_data",
          "data": {
            "image/png": "[encoded data removed]",
            "text/plain": [
              "<Figure size 432x216 with 2 Axes>"
            ]
          },
          "metadata": {
            "tags": []
          }
        }
      ]
    },
    {
      "cell_type": "code",
      "metadata": {
        "id": "KRAtmZWm7Nkl",
        "colab_type": "code",
        "colab": {}
      },
      "source": [
        ""
      ],
      "execution_count": 0,
      "outputs": []
    }
  ]
}